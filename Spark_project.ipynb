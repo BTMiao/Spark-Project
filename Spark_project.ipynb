{
  "cells": [
    {
      "cell_type": "markdown",
      "metadata": {
        "id": "tIEESrhWTFsj"
      },
      "source": [
        "## **Spark** **Project**"
      ]
    },
    {
      "cell_type": "markdown",
      "metadata": {
        "id": "R-043KvMXNJb"
      },
      "source": [
        "In this project, we use spark to analyze the dataset reported incidents of crime (with the exception of murders where data exists for each victim) that occurred in the City of Chicago from 2001 to present, minus the most recent seven days. Data is extracted from the Chicago Police Department's CLEAR (Citizen Law Enforcement Analysis and Reporting) system."
      ]
    },
    {
      "cell_type": "code",
      "execution_count": 1,
      "metadata": {
        "id": "Qx9_2NQQgMXo",
        "colab": {
          "base_uri": "https://localhost:8080/"
        },
        "outputId": "d9dfc3b0-fe0c-4945-8ada-e7d4256f009e"
      },
      "outputs": [
        {
          "output_type": "stream",
          "name": "stdout",
          "text": [
            "sample_data\n"
          ]
        }
      ],
      "source": [
        "!ls"
      ]
    },
    {
      "cell_type": "code",
      "execution_count": 2,
      "metadata": {
        "colab": {
          "base_uri": "https://localhost:8080/"
        },
        "id": "8St2kTt-TCq3",
        "outputId": "639f4a5a-0c31-4a50-da74-713e8118c9b2"
      },
      "outputs": [
        {
          "output_type": "stream",
          "name": "stdout",
          "text": [
            "\r0% [Working]\r            \rGet:1 https://cloud.r-project.org/bin/linux/ubuntu jammy-cran40/ InRelease [3,626 B]\n",
            "Get:2 https://developer.download.nvidia.com/compute/cuda/repos/ubuntu2204/x86_64  InRelease [1,581 B]\n",
            "Get:3 https://developer.download.nvidia.com/compute/cuda/repos/ubuntu2204/x86_64  Packages [458 kB]\n",
            "Hit:4 http://archive.ubuntu.com/ubuntu jammy InRelease\n",
            "Get:5 http://security.ubuntu.com/ubuntu jammy-security InRelease [110 kB]\n",
            "Get:6 http://archive.ubuntu.com/ubuntu jammy-updates InRelease [119 kB]\n",
            "Hit:7 https://ppa.launchpadcontent.net/c2d4u.team/c2d4u4.0+/ubuntu jammy InRelease\n",
            "Get:8 http://archive.ubuntu.com/ubuntu jammy-backports InRelease [109 kB]\n",
            "Get:9 http://security.ubuntu.com/ubuntu jammy-security/main amd64 Packages [860 kB]\n",
            "Get:10 http://archive.ubuntu.com/ubuntu jammy-updates/universe amd64 Packages [1,241 kB]\n",
            "Hit:11 https://ppa.launchpadcontent.net/deadsnakes/ppa/ubuntu jammy InRelease\n",
            "Get:12 http://security.ubuntu.com/ubuntu jammy-security/universe amd64 Packages [980 kB]\n",
            "Get:13 http://archive.ubuntu.com/ubuntu jammy-updates/main amd64 Packages [1,136 kB]\n",
            "Hit:14 https://ppa.launchpadcontent.net/graphics-drivers/ppa/ubuntu jammy InRelease\n",
            "Hit:15 https://ppa.launchpadcontent.net/ubuntugis/ppa/ubuntu jammy InRelease\n",
            "Fetched 5,017 kB in 4s (1,286 kB/s)\n",
            "Reading package lists... Done\n"
          ]
        }
      ],
      "source": [
        "# Download spark from the website and install it\n",
        "! apt-get update\n",
        "! apt-get install openjdk-8-jdk-headless -qq > /dev/null\n",
        "! wget -q https://dlcdn.apache.org/spark/spark-3.4.1/spark-3.4.1-bin-hadoop3.tgz\n",
        "! tar xf spark-3.4.1-bin-hadoop3.tgz\n",
        "! pip install -q findspark"
      ]
    },
    {
      "cell_type": "code",
      "execution_count": 3,
      "metadata": {
        "id": "GSqCZsqRTuRE"
      },
      "outputs": [],
      "source": [
        "# set up the environment\n",
        "import os\n",
        "os.environ[\"JAVA_HOME\"] = \"/usr/lib/jvm/java-8-openjdk-amd64\"\n",
        "os.environ[\"SPARK_HOME\"] = \"/content/spark-3.4.1-bin-hadoop3\""
      ]
    },
    {
      "cell_type": "code",
      "execution_count": 4,
      "metadata": {
        "colab": {
          "base_uri": "https://localhost:8080/"
        },
        "id": "sniV7NqeTujj",
        "outputId": "be5e484d-3a4f-4feb-d008-ab93d98df4f8"
      },
      "outputs": [
        {
          "output_type": "stream",
          "name": "stdout",
          "text": [
            "sample_data  spark-3.4.1-bin-hadoop3  spark-3.4.1-bin-hadoop3.tgz\n"
          ]
        }
      ],
      "source": [
        "!ls"
      ]
    },
    {
      "cell_type": "code",
      "execution_count": 5,
      "metadata": {
        "colab": {
          "base_uri": "https://localhost:8080/",
          "height": 196
        },
        "id": "E6SDKvWmVacr",
        "outputId": "c71a408c-9a06-42e1-c8d8-16145d3f2f53"
      },
      "outputs": [
        {
          "output_type": "execute_result",
          "data": {
            "text/plain": [
              "<SparkContext master=local[*] appName=pyspark-shell>"
            ],
            "text/html": [
              "\n",
              "        <div>\n",
              "            <p><b>SparkContext</b></p>\n",
              "\n",
              "            <p><a href=\"http://a6a49974326b:4040\">Spark UI</a></p>\n",
              "\n",
              "            <dl>\n",
              "              <dt>Version</dt>\n",
              "                <dd><code>v3.4.1</code></dd>\n",
              "              <dt>Master</dt>\n",
              "                <dd><code>local[*]</code></dd>\n",
              "              <dt>AppName</dt>\n",
              "                <dd><code>pyspark-shell</code></dd>\n",
              "            </dl>\n",
              "        </div>\n",
              "        "
            ]
          },
          "metadata": {},
          "execution_count": 5
        }
      ],
      "source": [
        "import findspark\n",
        "findspark.init()\n",
        "from pyspark import SparkContext\n",
        "sc = SparkContext.getOrCreate()\n",
        "sc"
      ]
    },
    {
      "cell_type": "code",
      "execution_count": 6,
      "metadata": {
        "colab": {
          "base_uri": "https://localhost:8080/",
          "height": 219
        },
        "id": "85UzSDolVamC",
        "outputId": "66bad510-85cd-42b9-8a92-c669abb25916"
      },
      "outputs": [
        {
          "output_type": "execute_result",
          "data": {
            "text/plain": [
              "<pyspark.sql.session.SparkSession at 0x7e0c2eba3220>"
            ],
            "text/html": [
              "\n",
              "            <div>\n",
              "                <p><b>SparkSession - in-memory</b></p>\n",
              "                \n",
              "        <div>\n",
              "            <p><b>SparkContext</b></p>\n",
              "\n",
              "            <p><a href=\"http://a6a49974326b:4040\">Spark UI</a></p>\n",
              "\n",
              "            <dl>\n",
              "              <dt>Version</dt>\n",
              "                <dd><code>v3.4.1</code></dd>\n",
              "              <dt>Master</dt>\n",
              "                <dd><code>local[*]</code></dd>\n",
              "              <dt>AppName</dt>\n",
              "                <dd><code>pyspark-shell</code></dd>\n",
              "            </dl>\n",
              "        </div>\n",
              "        \n",
              "            </div>\n",
              "        "
            ]
          },
          "metadata": {},
          "execution_count": 6
        }
      ],
      "source": [
        "import pyspark\n",
        "from pyspark.sql import SparkSession\n",
        "spark = SparkSession.builder.getOrCreate()\n",
        "spark"
      ]
    },
    {
      "cell_type": "markdown",
      "metadata": {
        "id": "WMmeOPZ_d9o6"
      },
      "source": [
        "####**Dowload** **and** **preprocessing** **Chicago's** **Report** **Crime** **Data**"
      ]
    },
    {
      "cell_type": "code",
      "execution_count": 7,
      "metadata": {
        "colab": {
          "base_uri": "https://localhost:8080/"
        },
        "id": "JVJmFeMqVao6",
        "outputId": "7058face-791d-49f7-f14a-d403ed27ba7f"
      },
      "outputs": [
        {
          "output_type": "stream",
          "name": "stdout",
          "text": [
            "--2023-08-20 17:25:31--  https://data.cityofchicago.org/api/views/ijzp-q8t2/rows.csv?accessType=DOWNLOAD\n",
            "Resolving data.cityofchicago.org (data.cityofchicago.org)... 52.206.140.199, 52.206.68.26, 52.206.140.205\n",
            "Connecting to data.cityofchicago.org (data.cityofchicago.org)|52.206.140.199|:443... connected.\n",
            "HTTP request sent, awaiting response... 200 OK\n",
            "Length: unspecified [text/csv]\n",
            "Saving to: ‘rows.csv?accessType=DOWNLOAD’\n",
            "\n",
            "rows.csv?accessType     [  <=>               ]   1.73G  3.17MB/s    in 15m 34s \n",
            "\n",
            "2023-08-20 17:41:06 (1.90 MB/s) - ‘rows.csv?accessType=DOWNLOAD’ saved [1856229146]\n",
            "\n"
          ]
        }
      ],
      "source": [
        "# Download the data\n",
        "!wget https://data.cityofchicago.org/api/views/ijzp-q8t2/rows.csv?accessType=DOWNLOAD"
      ]
    },
    {
      "cell_type": "code",
      "execution_count": 8,
      "metadata": {
        "colab": {
          "base_uri": "https://localhost:8080/"
        },
        "id": "m9O7bOqGVar0",
        "outputId": "d90f439f-4378-4eec-f0bb-1720fc727c94"
      },
      "outputs": [
        {
          "output_type": "stream",
          "name": "stdout",
          "text": [
            "'rows.csv?accessType=DOWNLOAD'\t spark-3.4.1-bin-hadoop3\n",
            " sample_data\t\t\t spark-3.4.1-bin-hadoop3.tgz\n"
          ]
        }
      ],
      "source": [
        "!ls"
      ]
    },
    {
      "cell_type": "code",
      "execution_count": 9,
      "metadata": {
        "id": "GR-uzNeVVauC"
      },
      "outputs": [],
      "source": [
        "# Rename the file as crimes_report\n",
        "! mv rows.csv?accessType=DOWNLOAD crimes_report.csv"
      ]
    },
    {
      "cell_type": "code",
      "execution_count": 10,
      "metadata": {
        "colab": {
          "base_uri": "https://localhost:8080/"
        },
        "id": "1LmUcmhaVaxC",
        "outputId": "8968b6f3-e9ea-45ed-83cd-6148fcdee209"
      },
      "outputs": [
        {
          "output_type": "stream",
          "name": "stdout",
          "text": [
            "+--------+-----------+-------------------+-------------------+----+------------------+--------------------+--------------------+------+--------+----+--------+----+--------------+--------+------------+------------+----+--------------------+--------+---------+--------+\n",
            "|      ID|Case Number|               Date|              Block|IUCR|      Primary Type|         Description|Location Description|Arrest|Domestic|Beat|District|Ward|Community Area|FBI Code|X Coordinate|Y Coordinate|Year|          Updated On|Latitude|Longitude|Location|\n",
            "+--------+-----------+-------------------+-------------------+----+------------------+--------------------+--------------------+------+--------+----+--------+----+--------------+--------+------------+------------+----+--------------------+--------+---------+--------+\n",
            "| 1896258|    G749215|2001-12-15 02:00:00|   011XX N STATE ST|0460|           BATTERY|              SIMPLE|              STREET| false|   false|1824|     018|null|          null|     08B|        null|        null|2001|08/17/2015 03:03:...|    null|     null|    null|\n",
            "|11645527|   JC212744|2015-02-02 10:00:00| 069XX W ARCHER AVE|1153|DECEPTIVE PRACTICE|FINANCIAL IDENTIT...|               OTHER| false|   false|0811|     008|  23|            56|      11|        null|        null|2015|04/06/2019 04:04:...|    null|     null|    null|\n",
            "|11034701|   JA366925|2001-01-01 11:00:00|    016XX E 86TH PL|1153|DECEPTIVE PRACTICE|FINANCIAL IDENTIT...|           RESIDENCE| false|   false|0412|     004|   8|            45|      11|        null|        null|2001|08/05/2017 03:50:...|    null|     null|    null|\n",
            "|11645648|   JC212959|2018-01-01 08:00:00|024XX N MONITOR AVE|1153|DECEPTIVE PRACTICE|FINANCIAL IDENTIT...|           RESIDENCE| false|   false|2515|     025|  30|            19|      11|        null|        null|2018|04/06/2019 04:04:...|    null|     null|    null|\n",
            "|11241640|   JB166009|2017-10-13 09:00:00|    019XX E 72ND PL|0820|             THEFT|      $500 AND UNDER|              STREET| false|   false|0333|     003|   5|            43|      06|        null|        null|2017|02/27/2018 03:59:...|    null|     null|    null|\n",
            "+--------+-----------+-------------------+-------------------+----+------------------+--------------------+--------------------+------+--------+----+--------+----+--------------+--------+------------+------------+----+--------------------+--------+---------+--------+\n",
            "only showing top 5 rows\n",
            "\n"
          ]
        }
      ],
      "source": [
        "# Read the first 5 rows of the file\n",
        "from pyspark.sql.functions import to_timestamp,col,lit\n",
        "#rc = spark.read.csv('crimes_report.csv', header=True).withColumn('Date', to_timestamp(col('Date'),'yyyy-MM-dd HH:mm:ss')).filter(col('Date') < lit('2018-11-12'))\n",
        "rc = spark.read.csv('crimes_report.csv', header=True).withColumn('Date', to_timestamp(col('Date'),'MM/dd/yyyy HH:mm:ss a')).filter(col('Date') < lit('2018-11-12'))\n",
        "rc.show(5)"
      ]
    },
    {
      "cell_type": "markdown",
      "metadata": {
        "id": "WTF5ldcpbCtt"
      },
      "source": [
        "####**Schemas**"
      ]
    },
    {
      "cell_type": "code",
      "execution_count": 11,
      "metadata": {
        "colab": {
          "base_uri": "https://localhost:8080/"
        },
        "id": "eG8QVwuDbDb5",
        "outputId": "003a135a-db37-40c9-f164-247446960756"
      },
      "outputs": [
        {
          "output_type": "stream",
          "name": "stdout",
          "text": [
            "root\n",
            " |-- ID: string (nullable = true)\n",
            " |-- Case Number: string (nullable = true)\n",
            " |-- Date: timestamp (nullable = true)\n",
            " |-- Block: string (nullable = true)\n",
            " |-- IUCR: string (nullable = true)\n",
            " |-- Primary Type: string (nullable = true)\n",
            " |-- Description: string (nullable = true)\n",
            " |-- Location Description: string (nullable = true)\n",
            " |-- Arrest: string (nullable = true)\n",
            " |-- Domestic: string (nullable = true)\n",
            " |-- Beat: string (nullable = true)\n",
            " |-- District: string (nullable = true)\n",
            " |-- Ward: string (nullable = true)\n",
            " |-- Community Area: string (nullable = true)\n",
            " |-- FBI Code: string (nullable = true)\n",
            " |-- X Coordinate: string (nullable = true)\n",
            " |-- Y Coordinate: string (nullable = true)\n",
            " |-- Year: string (nullable = true)\n",
            " |-- Updated On: string (nullable = true)\n",
            " |-- Latitude: string (nullable = true)\n",
            " |-- Longitude: string (nullable = true)\n",
            " |-- Location: string (nullable = true)\n",
            "\n"
          ]
        }
      ],
      "source": [
        "rc.printSchema()"
      ]
    },
    {
      "cell_type": "code",
      "execution_count": 12,
      "metadata": {
        "id": "Q-O_e1Zwemoq"
      },
      "outputs": [],
      "source": [
        "from pyspark.sql.types import StructType, StructField, StringType, TimestampType, BooleanType, DoubleType, IntegerType, DateType"
      ]
    },
    {
      "cell_type": "code",
      "execution_count": 13,
      "metadata": {
        "colab": {
          "base_uri": "https://localhost:8080/"
        },
        "id": "kMt0Vbbkemuq",
        "outputId": "108aecd7-f9d4-4562-945a-3676b2302ce9"
      },
      "outputs": [
        {
          "output_type": "execute_result",
          "data": {
            "text/plain": [
              "['ID',\n",
              " 'Case Number',\n",
              " 'Date',\n",
              " 'Block',\n",
              " 'IUCR',\n",
              " 'Primary Type',\n",
              " 'Description',\n",
              " 'Location Description',\n",
              " 'Arrest',\n",
              " 'Domestic',\n",
              " 'Beat',\n",
              " 'District',\n",
              " 'Ward',\n",
              " 'Community Area',\n",
              " 'FBI Code',\n",
              " 'X Coordinate',\n",
              " 'Y Coordinate',\n",
              " 'Year',\n",
              " 'Updated On',\n",
              " 'Latitude',\n",
              " 'Longitude',\n",
              " 'Location']"
            ]
          },
          "metadata": {},
          "execution_count": 13
        }
      ],
      "source": [
        "rc.columns"
      ]
    },
    {
      "cell_type": "code",
      "execution_count": 14,
      "metadata": {
        "id": "NsP6wWqibDyJ"
      },
      "outputs": [],
      "source": [
        "from traitlets.traitlets import Integer\n",
        "labels =[\n",
        "    ('ID', StringType()),\n",
        "    ('Case Number',StringType()),\n",
        "    ('Date', TimestampType()),\n",
        "    ('Block', StringType()),\n",
        "    ('IUCR', StringType()),\n",
        "    ('Primary Type',StringType()),\n",
        "    ('Description', StringType()),\n",
        "    ('Location Description', StringType()),\n",
        "    ('Arrest',StringType()),\n",
        "    ('Domestic',BooleanType()),\n",
        "    ('Beat',StringType()),\n",
        "    ('District',StringType()),\n",
        "    ('Ward',StringType()),\n",
        "    ('Community Area',StringType()),\n",
        "    ('FBI Code',StringType()),\n",
        "    ('X Coordinate',StringType()),\n",
        "    ('Y Coordinate',StringType()),\n",
        "    ('Year',IntegerType()),\n",
        "    ('Updated On',StringType()),\n",
        "    ('Latitude',DoubleType()),\n",
        "    ('Longitude',DoubleType()),\n",
        "    ('Location',StringType())\n",
        "]"
      ]
    },
    {
      "cell_type": "code",
      "execution_count": 15,
      "metadata": {
        "colab": {
          "base_uri": "https://localhost:8080/"
        },
        "id": "BKqXE815bEmZ",
        "outputId": "e137f320-9475-42f9-b52f-d7849efd06a4"
      },
      "outputs": [
        {
          "output_type": "execute_result",
          "data": {
            "text/plain": [
              "StructType([StructField('ID', StringType(), True), StructField('Case Number', StringType(), True), StructField('Date', TimestampType(), True), StructField('Block', StringType(), True), StructField('IUCR', StringType(), True), StructField('Primary Type', StringType(), True), StructField('Description', StringType(), True), StructField('Location Description', StringType(), True), StructField('Arrest', StringType(), True), StructField('Domestic', BooleanType(), True), StructField('Beat', StringType(), True), StructField('District', StringType(), True), StructField('Ward', StringType(), True), StructField('Community Area', StringType(), True), StructField('FBI Code', StringType(), True), StructField('X Coordinate', StringType(), True), StructField('Y Coordinate', StringType(), True), StructField('Year', IntegerType(), True), StructField('Updated On', StringType(), True), StructField('Latitude', DoubleType(), True), StructField('Longitude', DoubleType(), True), StructField('Location', StringType(), True)])"
            ]
          },
          "metadata": {},
          "execution_count": 15
        }
      ],
      "source": [
        "schema = StructType([StructField (x[0],x[1],True) for x in labels])\n",
        "schema"
      ]
    },
    {
      "cell_type": "code",
      "execution_count": 16,
      "metadata": {
        "colab": {
          "base_uri": "https://localhost:8080/"
        },
        "id": "dNeTGhLebEpa",
        "outputId": "52fcd60a-5fdd-4aa1-e43a-e61cd17d3055"
      },
      "outputs": [
        {
          "output_type": "stream",
          "name": "stdout",
          "text": [
            "root\n",
            " |-- ID: string (nullable = true)\n",
            " |-- Case Number: string (nullable = true)\n",
            " |-- Date: timestamp (nullable = true)\n",
            " |-- Block: string (nullable = true)\n",
            " |-- IUCR: string (nullable = true)\n",
            " |-- Primary Type: string (nullable = true)\n",
            " |-- Description: string (nullable = true)\n",
            " |-- Location Description: string (nullable = true)\n",
            " |-- Arrest: string (nullable = true)\n",
            " |-- Domestic: boolean (nullable = true)\n",
            " |-- Beat: string (nullable = true)\n",
            " |-- District: string (nullable = true)\n",
            " |-- Ward: string (nullable = true)\n",
            " |-- Community Area: string (nullable = true)\n",
            " |-- FBI Code: string (nullable = true)\n",
            " |-- X Coordinate: string (nullable = true)\n",
            " |-- Y Coordinate: string (nullable = true)\n",
            " |-- Year: integer (nullable = true)\n",
            " |-- Updated On: string (nullable = true)\n",
            " |-- Latitude: double (nullable = true)\n",
            " |-- Longitude: double (nullable = true)\n",
            " |-- Location: string (nullable = true)\n",
            "\n"
          ]
        }
      ],
      "source": [
        "rc = spark.read.csv('crimes_report.csv', schema=schema)\n",
        "rc.printSchema()\n",
        "#c = spark.read.csv('crimes_report.csv')\n",
        "#rc.head()"
      ]
    },
    {
      "cell_type": "code",
      "execution_count": 17,
      "metadata": {
        "colab": {
          "base_uri": "https://localhost:8080/"
        },
        "id": "ASHrjcSQbEsS",
        "outputId": "a39310b1-40bd-442b-e0ac-405da61963a1"
      },
      "outputs": [
        {
          "output_type": "stream",
          "name": "stdout",
          "text": [
            "+--------+-----------+----+--------------------+----+------------------+--------------------+--------------------+------+--------+----+--------+----+--------------+--------+------------+------------+----+--------------------+--------+---------+--------+\n",
            "|      ID|Case Number|Date|               Block|IUCR|      Primary Type|         Description|Location Description|Arrest|Domestic|Beat|District|Ward|Community Area|FBI Code|X Coordinate|Y Coordinate|Year|          Updated On|Latitude|Longitude|Location|\n",
            "+--------+-----------+----+--------------------+----+------------------+--------------------+--------------------+------+--------+----+--------+----+--------------+--------+------------+------------+----+--------------------+--------+---------+--------+\n",
            "|      ID|Case Number|null|               Block|IUCR|      Primary Type|         Description|Location Description|Arrest|    null|Beat|District|Ward|Community Area|FBI Code|X Coordinate|Y Coordinate|null|          Updated On|    null|     null|Location|\n",
            "|11646166|   JC213529|null|082XX S INGLESIDE...|0810|             THEFT|           OVER $500|           RESIDENCE| false|    true|0631|     006|   8|            44|      06|        null|        null|2018|04/06/2019 04:04:...|    null|     null|    null|\n",
            "|11645836|   JC212333|null| 055XX S ROCKWELL ST|1153|DECEPTIVE PRACTICE|FINANCIAL IDENTIT...|                null| false|   false|0824|     008|  15|            63|      11|        null|        null|2016|04/06/2019 04:04:...|    null|     null|    null|\n",
            "|11243268|   JB167760|null|    047XX N CLARK ST|1562|       SEX OFFENSE|AGG CRIMINAL SEXU...|           APARTMENT| false|   false|1913|     019|  47|             3|      17|        null|        null|2017|09/13/2018 03:56:...|    null|     null|    null|\n",
            "| 1896258|    G749215|null|    011XX N STATE ST|0460|           BATTERY|              SIMPLE|              STREET| false|   false|1824|     018|null|          null|     08B|        null|        null|2001|08/17/2015 03:03:...|    null|     null|    null|\n",
            "+--------+-----------+----+--------------------+----+------------------+--------------------+--------------------+------+--------+----+--------+----+--------------+--------+------------+------------+----+--------------------+--------+---------+--------+\n",
            "only showing top 5 rows\n",
            "\n"
          ]
        }
      ],
      "source": [
        "rc.show(5)"
      ]
    },
    {
      "cell_type": "markdown",
      "metadata": {
        "id": "clN1dngAdC12"
      },
      "source": [
        "We find some null values. This is because some format cannot read by schema."
      ]
    },
    {
      "cell_type": "markdown",
      "metadata": {
        "id": "j205VVLqrG4Y"
      },
      "source": [
        "####**Woring with columns**"
      ]
    },
    {
      "cell_type": "code",
      "execution_count": 18,
      "metadata": {
        "colab": {
          "base_uri": "https://localhost:8080/"
        },
        "id": "yMI033K-d0Nb",
        "outputId": "9c7a6fe3-ab74-4c47-b44b-abe2c0e59153"
      },
      "outputs": [
        {
          "output_type": "stream",
          "name": "stdout",
          "text": [
            "+--------+-----------+-------------------+-------------------+----+------------------+--------------------+--------------------+------+--------+----+--------+----+--------------+--------+------------+------------+----+--------------------+--------+---------+--------+\n",
            "|      ID|Case Number|               Date|              Block|IUCR|      Primary Type|         Description|Location Description|Arrest|Domestic|Beat|District|Ward|Community Area|FBI Code|X Coordinate|Y Coordinate|Year|          Updated On|Latitude|Longitude|Location|\n",
            "+--------+-----------+-------------------+-------------------+----+------------------+--------------------+--------------------+------+--------+----+--------+----+--------------+--------+------------+------------+----+--------------------+--------+---------+--------+\n",
            "| 1896258|    G749215|2001-12-15 02:00:00|   011XX N STATE ST|0460|           BATTERY|              SIMPLE|              STREET| false|   false|1824|     018|null|          null|     08B|        null|        null|2001|08/17/2015 03:03:...|    null|     null|    null|\n",
            "|11645527|   JC212744|2015-02-02 10:00:00| 069XX W ARCHER AVE|1153|DECEPTIVE PRACTICE|FINANCIAL IDENTIT...|               OTHER| false|   false|0811|     008|  23|            56|      11|        null|        null|2015|04/06/2019 04:04:...|    null|     null|    null|\n",
            "|11034701|   JA366925|2001-01-01 11:00:00|    016XX E 86TH PL|1153|DECEPTIVE PRACTICE|FINANCIAL IDENTIT...|           RESIDENCE| false|   false|0412|     004|   8|            45|      11|        null|        null|2001|08/05/2017 03:50:...|    null|     null|    null|\n",
            "|11645648|   JC212959|2018-01-01 08:00:00|024XX N MONITOR AVE|1153|DECEPTIVE PRACTICE|FINANCIAL IDENTIT...|           RESIDENCE| false|   false|2515|     025|  30|            19|      11|        null|        null|2018|04/06/2019 04:04:...|    null|     null|    null|\n",
            "|11241640|   JB166009|2017-10-13 09:00:00|    019XX E 72ND PL|0820|             THEFT|      $500 AND UNDER|              STREET| false|   false|0333|     003|   5|            43|      06|        null|        null|2017|02/27/2018 03:59:...|    null|     null|    null|\n",
            "+--------+-----------+-------------------+-------------------+----+------------------+--------------------+--------------------+------+--------+----+--------+----+--------------+--------+------------+------------+----+--------------------+--------+---------+--------+\n",
            "only showing top 5 rows\n",
            "\n"
          ]
        }
      ],
      "source": [
        "# Read the file again\n",
        "from pyspark.sql.functions import to_timestamp,col,lit\n",
        "#rc = spark.read.csv('crimes_report.csv', header=True).withColumn('Date', to_timestamp(col('Date'),'yyyy-MM-dd HH:mm:ss')).filter(col('Date') < lit('2018-11-12'))\n",
        "rc = spark.read.csv('crimes_report.csv', header=True).withColumn('Date', to_timestamp(col('Date'),'MM/dd/yyyy HH:mm:ss a')).filter(col('Date') < lit('2018-11-12'))\n",
        "rc.show(5)"
      ]
    },
    {
      "cell_type": "code",
      "execution_count": 19,
      "metadata": {
        "colab": {
          "base_uri": "https://localhost:8080/"
        },
        "id": "_An-lMvvrHP4",
        "outputId": "68ad3278-590d-4696-e8f6-5c05e2594542"
      },
      "outputs": [
        {
          "output_type": "stream",
          "name": "stdout",
          "text": [
            "+----+\n",
            "|IUCR|\n",
            "+----+\n",
            "|0460|\n",
            "|1153|\n",
            "|1153|\n",
            "|1153|\n",
            "|0820|\n",
            "+----+\n",
            "only showing top 5 rows\n",
            "\n",
            "+----+\n",
            "|IUCR|\n",
            "+----+\n",
            "|0460|\n",
            "|1153|\n",
            "|1153|\n",
            "|1153|\n",
            "|0820|\n",
            "+----+\n",
            "only showing top 5 rows\n",
            "\n"
          ]
        }
      ],
      "source": [
        "rc.select(rc.IUCR).show(5)\n",
        "rc.select(col('IUCR')).show(5)"
      ]
    },
    {
      "cell_type": "code",
      "execution_count": 20,
      "metadata": {
        "colab": {
          "base_uri": "https://localhost:8080/"
        },
        "id": "YIj9OOxcrHS5",
        "outputId": "e57e94d3-96d4-4bfd-ad93-e484d8248152"
      },
      "outputs": [
        {
          "output_type": "stream",
          "name": "stdout",
          "text": [
            "+-----------+-------------------+------+\n",
            "|Case Number|               Date|Arrest|\n",
            "+-----------+-------------------+------+\n",
            "|    G749215|2001-12-15 02:00:00| false|\n",
            "|   JC212744|2015-02-02 10:00:00| false|\n",
            "|   JA366925|2001-01-01 11:00:00| false|\n",
            "|   JC212959|2018-01-01 08:00:00| false|\n",
            "|   JB166009|2017-10-13 09:00:00| false|\n",
            "+-----------+-------------------+------+\n",
            "only showing top 5 rows\n",
            "\n"
          ]
        }
      ],
      "source": [
        "rc.select('Case Number', 'Date', 'Arrest').show(5)"
      ]
    },
    {
      "cell_type": "code",
      "execution_count": 21,
      "metadata": {
        "id": "UxUU8Mo0rHVg"
      },
      "outputs": [],
      "source": [
        "from pyspark.sql.functions import lit"
      ]
    },
    {
      "cell_type": "code",
      "execution_count": 22,
      "metadata": {
        "colab": {
          "base_uri": "https://localhost:8080/"
        },
        "id": "PRUzWSVarHYD",
        "outputId": "0a69b078-77b2-41fd-eeb0-36f8fabb4f5c"
      },
      "outputs": [
        {
          "output_type": "stream",
          "name": "stdout",
          "text": [
            "+--------+-----------+-------------------+-------------------+----+------------------+--------------------+--------------------+------+--------+----+--------+----+--------------+--------+------------+------------+----+--------------------+--------+---------+--------+---+\n",
            "|      ID|Case Number|               Date|              Block|IUCR|      Primary Type|         Description|Location Description|Arrest|Domestic|Beat|District|Ward|Community Area|FBI Code|X Coordinate|Y Coordinate|Year|          Updated On|Latitude|Longitude|Location|One|\n",
            "+--------+-----------+-------------------+-------------------+----+------------------+--------------------+--------------------+------+--------+----+--------+----+--------------+--------+------------+------------+----+--------------------+--------+---------+--------+---+\n",
            "| 1896258|    G749215|2001-12-15 02:00:00|   011XX N STATE ST|0460|           BATTERY|              SIMPLE|              STREET| false|   false|1824|     018|null|          null|     08B|        null|        null|2001|08/17/2015 03:03:...|    null|     null|    null|  1|\n",
            "|11645527|   JC212744|2015-02-02 10:00:00| 069XX W ARCHER AVE|1153|DECEPTIVE PRACTICE|FINANCIAL IDENTIT...|               OTHER| false|   false|0811|     008|  23|            56|      11|        null|        null|2015|04/06/2019 04:04:...|    null|     null|    null|  1|\n",
            "|11034701|   JA366925|2001-01-01 11:00:00|    016XX E 86TH PL|1153|DECEPTIVE PRACTICE|FINANCIAL IDENTIT...|           RESIDENCE| false|   false|0412|     004|   8|            45|      11|        null|        null|2001|08/05/2017 03:50:...|    null|     null|    null|  1|\n",
            "|11645648|   JC212959|2018-01-01 08:00:00|024XX N MONITOR AVE|1153|DECEPTIVE PRACTICE|FINANCIAL IDENTIT...|           RESIDENCE| false|   false|2515|     025|  30|            19|      11|        null|        null|2018|04/06/2019 04:04:...|    null|     null|    null|  1|\n",
            "|11241640|   JB166009|2017-10-13 09:00:00|    019XX E 72ND PL|0820|             THEFT|      $500 AND UNDER|              STREET| false|   false|0333|     003|   5|            43|      06|        null|        null|2017|02/27/2018 03:59:...|    null|     null|    null|  1|\n",
            "+--------+-----------+-------------------+-------------------+----+------------------+--------------------+--------------------+------+--------+----+--------+----+--------------+--------+------------+------------+----+--------------------+--------+---------+--------+---+\n",
            "only showing top 5 rows\n",
            "\n"
          ]
        }
      ],
      "source": [
        "# Add a column\n",
        "rc.withColumn('One', lit(1)).show(5)"
      ]
    },
    {
      "cell_type": "code",
      "execution_count": 23,
      "metadata": {
        "colab": {
          "base_uri": "https://localhost:8080/"
        },
        "id": "_OCmRefnrHbR",
        "outputId": "9fb0ee37-55c7-4cd6-8342-112aa56aac53"
      },
      "outputs": [
        {
          "output_type": "stream",
          "name": "stdout",
          "text": [
            "+--------+-----------+-------------------+--------------------+--------------------+--------------------+--------------------+------+--------+----+--------+----+--------------+--------+------------+------------+----+--------------------+------------+-------------+--------------------+\n",
            "|      ID|Case Number|               Date|               Block|        Primary Type|         Description|Location Description|Arrest|Domestic|Beat|District|Ward|Community Area|FBI Code|X Coordinate|Y Coordinate|Year|          Updated On|    Latitude|    Longitude|            Location|\n",
            "+--------+-----------+-------------------+--------------------+--------------------+--------------------+--------------------+------+--------+----+--------+----+--------------+--------+------------+------------+----+--------------------+------------+-------------+--------------------+\n",
            "| 1896258|    G749215|2001-12-15 02:00:00|    011XX N STATE ST|             BATTERY|              SIMPLE|              STREET| false|   false|1824|     018|null|          null|     08B|        null|        null|2001|08/17/2015 03:03:...|        null|         null|                null|\n",
            "|11645527|   JC212744|2015-02-02 10:00:00|  069XX W ARCHER AVE|  DECEPTIVE PRACTICE|FINANCIAL IDENTIT...|               OTHER| false|   false|0811|     008|  23|            56|      11|        null|        null|2015|04/06/2019 04:04:...|        null|         null|                null|\n",
            "|11034701|   JA366925|2001-01-01 11:00:00|     016XX E 86TH PL|  DECEPTIVE PRACTICE|FINANCIAL IDENTIT...|           RESIDENCE| false|   false|0412|     004|   8|            45|      11|        null|        null|2001|08/05/2017 03:50:...|        null|         null|                null|\n",
            "|11645648|   JC212959|2018-01-01 08:00:00| 024XX N MONITOR AVE|  DECEPTIVE PRACTICE|FINANCIAL IDENTIT...|           RESIDENCE| false|   false|2515|     025|  30|            19|      11|        null|        null|2018|04/06/2019 04:04:...|        null|         null|                null|\n",
            "|11241640|   JB166009|2017-10-13 09:00:00|     019XX E 72ND PL|               THEFT|      $500 AND UNDER|              STREET| false|   false|0333|     003|   5|            43|      06|        null|        null|2017|02/27/2018 03:59:...|        null|         null|                null|\n",
            "|11160773|   JA515078|2017-11-17 09:45:00| 033XX W FILLMORE ST|           NARCOTICS|POSS: CANNABIS MO...|POLICE FACILITY/V...|  true|   false|1134|     011|  24|            29|      18|        null|        null|2017|02/17/2018 03:52:...|        null|         null|                null|\n",
            "|10225206|   HY412253|2015-09-06 01:10:00|    047XX S STATE ST|             BATTERY| AGGRAVATED: HANDGUN|     VACANT LOT/LAND| false|   false|0224|     002|   3|            38|     04B|     1177070|     1873609|2015|02/10/2018 03:50:...| 41.80852139| -87.62606631|(41.80852139, -87...|\n",
            "|10225234|   HY412306|2015-09-06 02:00:00|002XX N ST LOUIS AVE|             BATTERY|AGGRAVATED:KNIFE/...|            SIDEWALK| false|   false|1123|     011|  28|            27|     04B|     1153006|     1901570|2015|02/10/2018 03:50:...|41.885759278|-87.713588042|(41.885759278, -8...|\n",
            "|11645833|   JC213044|2012-05-05 12:25:00|     057XX W OHIO ST|  DECEPTIVE PRACTICE|FINANCIAL IDENTIT...|                null| false|   false|1511|     015|  29|            25|      11|        null|        null|2012|04/06/2019 04:04:...|        null|         null|                null|\n",
            "|11227287|   JB147188|2017-10-08 03:00:00|  092XX S RACINE AVE| CRIM SEXUAL ASSAULT|      NON-AGGRAVATED|           RESIDENCE| false|   false|2222|     022|  21|            73|      02|        null|        null|2017|02/11/2018 03:57:...|        null|         null|                null|\n",
            "|11227634|   JB147599|2017-08-26 10:00:00| 001XX W RANDOLPH ST| CRIM SEXUAL ASSAULT|      NON-AGGRAVATED|         HOTEL/MOTEL| false|   false|0122|     001|  42|            32|      02|        null|        null|2017|02/11/2018 03:57:...|        null|         null|                null|\n",
            "|10225308|   HY412341|2015-09-06 02:35:00|  013XX W ADDISON ST|LIQUOR LAW VIOLATION|ILLEGAL CONSUMPTI...|            SIDEWALK|  true|   false|1923|     019|  44|             6|      22|     1166847|     1924028|2015|09/17/2015 11:37:...|41.947099832|-87.662115668|(41.947099832, -8...|\n",
            "|11037294|   JA371270|2015-03-18 12:00:00|   0000X W WACKER DR|  DECEPTIVE PRACTICE|FINANCIAL IDENTIT...|                BANK| false|   false|0111|     001|  42|            32|      11|        null|        null|2015|08/01/2017 03:52:...|        null|         null|                null|\n",
            "|11022695|   JA353568|2017-07-17 10:10:00| 021XX W MC LEAN AVE|               THEFT|           OVER $500|           RESIDENCE| false|   false|1432|     014|  32|            22|      06|        null|        null|2017|07/24/2017 03:54:...|        null|         null|                null|\n",
            "|11227586|   JB147613|2017-02-10 12:00:00|089XX S COTTAGE G...|     CRIMINAL DAMAGE|         TO PROPERTY|           APARTMENT| false|   false|0633|     006|   8|            44|      14|        null|        null|2017|02/11/2018 03:57:...|        null|         null|                null|\n",
            "|11227475|   JB147314|2017-11-22 02:42:00|056XX N CHRISTIAN...|       OTHER OFFENSE|HARASSMENT BY ELE...|           APARTMENT| false|    true|1711|     017|  39|            13|      26|        null|        null|2017|02/11/2018 03:57:...|        null|         null|                null|\n",
            "|11227247|   JB147078|2012-01-01 09:00:00|105XX S INDIANAPO...|  DECEPTIVE PRACTICE|FINANCIAL IDENTIT...|           RESIDENCE| false|   false|0432|     004|  10|            52|      11|        null|        null|2012|02/11/2018 03:57:...|        null|         null|                null|\n",
            "|11615821|   JC176668|2016-01-01 12:00:00| 054XX N NATCHEZ AVE|  DECEPTIVE PRACTICE|FINAN EXPLOIT-ELD...|           RESIDENCE| false|    true|1613|     016|  45|            10|      11|        null|        null|2016|03/08/2019 04:36:...|        null|         null|                null|\n",
            "|11041422|   JA375398|2017-07-29 10:00:00|022XX W WINNEMAC AVE|               THEFT|           OVER $500|    RESIDENCE-GARAGE| false|   false|2031|     020|  47|             4|      06|        null|        null|2017|08/05/2017 03:50:...|        null|         null|                null|\n",
            "|11042763|   JA376821|2017-07-27 01:00:00|  019XX W AINSLIE ST|               THEFT|       FROM BUILDING|           APARTMENT| false|   false|2032|     020|  47|             4|      06|        null|        null|2017|08/05/2017 03:50:...|        null|         null|                null|\n",
            "+--------+-----------+-------------------+--------------------+--------------------+--------------------+--------------------+------+--------+----+--------+----+--------------+--------+------------+------------+----+--------------------+------------+-------------+--------------------+\n",
            "only showing top 20 rows\n",
            "\n"
          ]
        }
      ],
      "source": [
        "# Drop the column IUCR\n",
        "rc = rc.drop('IUCR')\n",
        "rc.show()"
      ]
    },
    {
      "cell_type": "markdown",
      "metadata": {
        "id": "vfKXRWMptHGw"
      },
      "source": [
        "####**Working with rows**"
      ]
    },
    {
      "cell_type": "code",
      "execution_count": 24,
      "metadata": {
        "id": "6g3twXlVrHeC"
      },
      "outputs": [],
      "source": [
        "# Add an additional day, 15-Nov-2018, to our dataset\n",
        "# crime_report2 = spark.read.csv('crimes_report.csv', header=True).withColumn('Date', to_timestamp(col('Date'),'MM/dd/yyyy hh:mm:ss a')).filter(col('Date') < lit('2018-11-12'))\n",
        "one_day = spark.read.csv('crimes_report.csv', schema=schema, header=True).withColumn('Date', to_timestamp(col('Date'),'MM/dd/yyyy hh:mm:ss a')).filter(col('Date') == lit('2018-11-15'))\n",
        "one_day = one_day.drop('IUCR')"
      ]
    },
    {
      "cell_type": "markdown",
      "metadata": {
        "id": "VJ-_Y_m2soee"
      },
      "source": [
        "rc.union(one_day).orderBy('Date', ascending=False).show(5)"
      ]
    },
    {
      "cell_type": "code",
      "execution_count": 25,
      "metadata": {
        "colab": {
          "base_uri": "https://localhost:8080/"
        },
        "id": "eroYrd0NsohC",
        "outputId": "5e1e58a5-240c-40d5-bffa-f58e110f0951"
      },
      "outputs": [
        {
          "output_type": "stream",
          "name": "stdout",
          "text": [
            "+-------------------+------+\n",
            "|       Primary Type| count|\n",
            "+-------------------+------+\n",
            "|              THEFT|526104|\n",
            "|            BATTERY|460087|\n",
            "|    CRIMINAL DAMAGE|278356|\n",
            "|          NARCOTICS|194416|\n",
            "|           BURGLARY|186362|\n",
            "|      OTHER OFFENSE|169840|\n",
            "|            ASSAULT|146383|\n",
            "| DECEPTIVE PRACTICE|122321|\n",
            "|MOTOR VEHICLE THEFT|116442|\n",
            "|            ROBBERY| 92656|\n",
            "+-------------------+------+\n",
            "only showing top 10 rows\n",
            "\n"
          ]
        }
      ],
      "source": [
        "# Top 10 number of reported crimes by Primary type, in descending order of occurence\n",
        "rc.groupBy('Primary Type').count().orderBy('count',ascending=False).show(10)"
      ]
    },
    {
      "cell_type": "code",
      "execution_count": 26,
      "metadata": {
        "colab": {
          "base_uri": "https://localhost:8080/"
        },
        "id": "r44HbFNvsoja",
        "outputId": "b8f227b5-9985-49e7-e4af-f3e8b7acfb1f"
      },
      "outputs": [
        {
          "output_type": "stream",
          "name": "stdout",
          "text": [
            "+------+\n",
            "|Arrest|\n",
            "+------+\n",
            "| false|\n",
            "|  true|\n",
            "+------+\n",
            "\n"
          ]
        }
      ],
      "source": [
        "# What percentage of report crimes resulted in an arrest?\n",
        "rc.select('Arrest').distinct().show()"
      ]
    },
    {
      "cell_type": "code",
      "execution_count": 27,
      "metadata": {
        "colab": {
          "base_uri": "https://localhost:8080/"
        },
        "id": "G9bLLZh3somI",
        "outputId": "7509a04b-e314-47ee-cf06-cee3138e0790"
      },
      "outputs": [
        {
          "output_type": "stream",
          "name": "stdout",
          "text": [
            "root\n",
            " |-- ID: string (nullable = true)\n",
            " |-- Case Number: string (nullable = true)\n",
            " |-- Date: timestamp (nullable = true)\n",
            " |-- Block: string (nullable = true)\n",
            " |-- Primary Type: string (nullable = true)\n",
            " |-- Description: string (nullable = true)\n",
            " |-- Location Description: string (nullable = true)\n",
            " |-- Arrest: string (nullable = true)\n",
            " |-- Domestic: string (nullable = true)\n",
            " |-- Beat: string (nullable = true)\n",
            " |-- District: string (nullable = true)\n",
            " |-- Ward: string (nullable = true)\n",
            " |-- Community Area: string (nullable = true)\n",
            " |-- FBI Code: string (nullable = true)\n",
            " |-- X Coordinate: string (nullable = true)\n",
            " |-- Y Coordinate: string (nullable = true)\n",
            " |-- Year: string (nullable = true)\n",
            " |-- Updated On: string (nullable = true)\n",
            " |-- Latitude: string (nullable = true)\n",
            " |-- Longitude: string (nullable = true)\n",
            " |-- Location: string (nullable = true)\n",
            "\n"
          ]
        }
      ],
      "source": [
        "rc.printSchema()"
      ]
    },
    {
      "cell_type": "code",
      "execution_count": 28,
      "metadata": {
        "colab": {
          "base_uri": "https://localhost:8080/"
        },
        "id": "TmPycyAA13Qv",
        "outputId": "30c3de8d-97f3-42c5-ee04-5c61f089632e"
      },
      "outputs": [
        {
          "output_type": "execute_result",
          "data": {
            "text/plain": [
              "0.24492446149995292"
            ]
          },
          "metadata": {},
          "execution_count": 28
        }
      ],
      "source": [
        "rc.filter(col('Arrest')=='true').count() / rc.select('Arrest').count()"
      ]
    },
    {
      "cell_type": "code",
      "execution_count": 29,
      "metadata": {
        "colab": {
          "base_uri": "https://localhost:8080/"
        },
        "id": "GXG4JQOC13T2",
        "outputId": "356e6575-0cc5-4e90-c763-056bf94e0d3a"
      },
      "outputs": [
        {
          "output_type": "stream",
          "name": "stdout",
          "text": [
            "+--------------------+------+\n",
            "|Location Description| count|\n",
            "+--------------------+------+\n",
            "|              STREET|593690|\n",
            "|           RESIDENCE|488403|\n",
            "|           APARTMENT|298302|\n",
            "+--------------------+------+\n",
            "only showing top 3 rows\n",
            "\n"
          ]
        }
      ],
      "source": [
        "# The top 3 location for reported crimes\n",
        "rc.groupby('Location Description').count().orderBy('count', ascending=False).show(3)"
      ]
    },
    {
      "cell_type": "markdown",
      "metadata": {
        "id": "eJXTH1k7Pj-9"
      },
      "source": [
        "#### Built-in functions"
      ]
    },
    {
      "cell_type": "code",
      "execution_count": 30,
      "metadata": {
        "id": "eI32qHjs13Zg"
      },
      "outputs": [],
      "source": [
        "from pyspark.sql import functions"
      ]
    },
    {
      "cell_type": "code",
      "execution_count": 31,
      "metadata": {
        "colab": {
          "base_uri": "https://localhost:8080/"
        },
        "id": "2RKh0bdtPuPE",
        "outputId": "91481b74-5ca0-4ddc-f737-0561f1cfa524"
      },
      "outputs": [
        {
          "output_type": "stream",
          "name": "stdout",
          "text": [
            "['Any', 'ArrayType', 'Callable', 'Column', 'DataFrame', 'DataType', 'Dict', 'Iterable', 'JVMView', 'List', 'Optional', 'PandasUDFType', 'PySparkTypeError', 'PySparkValueError', 'PythonEvalType', 'SparkContext', 'StringType', 'StructType', 'TYPE_CHECKING', 'Tuple', 'Union', 'UserDefinedFunction', 'ValuesView', '__builtins__', '__cached__', '__doc__', '__file__', '__loader__', '__name__', '__package__', '__spec__', '_create_column_from_literal', '_create_lambda', '_create_py_udf', '_from_numpy_type', '_get_jvm_function', '_get_lambda_parameters', '_invoke_binary_math_function', '_invoke_function', '_invoke_function_over_columns', '_invoke_function_over_seq_of_columns', '_invoke_higher_order_function', '_options_to_str', '_test', '_to_java_column', '_to_seq', '_unresolved_named_lambda_variable', 'abs', 'acos', 'acosh', 'add_months', 'aggregate', 'approxCountDistinct', 'approx_count_distinct', 'array', 'array_append', 'array_compact', 'array_contains', 'array_distinct', 'array_except', 'array_insert', 'array_intersect', 'array_join', 'array_max', 'array_min', 'array_position', 'array_remove', 'array_repeat', 'array_sort', 'array_union', 'arrays_overlap', 'arrays_zip', 'asc', 'asc_nulls_first', 'asc_nulls_last', 'ascii', 'asin', 'asinh', 'assert_true', 'atan', 'atan2', 'atanh', 'avg', 'base64', 'bin', 'bit_length', 'bitwiseNOT', 'bitwise_not', 'broadcast', 'bround', 'bucket', 'call_udf', 'cast', 'cbrt', 'ceil', 'coalesce', 'col', 'collect_list', 'collect_set', 'column', 'concat', 'concat_ws', 'conv', 'corr', 'cos', 'cosh', 'cot', 'count', 'countDistinct', 'count_distinct', 'covar_pop', 'covar_samp', 'crc32', 'create_map', 'csc', 'cume_dist', 'current_date', 'current_timestamp', 'date_add', 'date_format', 'date_sub', 'date_trunc', 'datediff', 'dayofmonth', 'dayofweek', 'dayofyear', 'days', 'decode', 'degrees', 'dense_rank', 'desc', 'desc_nulls_first', 'desc_nulls_last', 'element_at', 'encode', 'exists', 'exp', 'explode', 'explode_outer', 'expm1', 'expr', 'factorial', 'filter', 'first', 'flatten', 'floor', 'forall', 'format_number', 'format_string', 'from_csv', 'from_json', 'from_unixtime', 'from_utc_timestamp', 'functools', 'get', 'get_active_spark_context', 'get_json_object', 'greatest', 'grouping', 'grouping_id', 'has_numpy', 'hash', 'hex', 'hour', 'hours', 'hypot', 'initcap', 'inline', 'inline_outer', 'input_file_name', 'inspect', 'instr', 'isnan', 'isnull', 'json_tuple', 'kurtosis', 'lag', 'last', 'last_day', 'lead', 'least', 'length', 'levenshtein', 'lit', 'localtimestamp', 'locate', 'log', 'log10', 'log1p', 'log2', 'lower', 'lpad', 'ltrim', 'make_date', 'map_concat', 'map_contains_key', 'map_entries', 'map_filter', 'map_from_arrays', 'map_from_entries', 'map_keys', 'map_values', 'map_zip_with', 'max', 'max_by', 'md5', 'mean', 'median', 'min', 'min_by', 'minute', 'mode', 'monotonically_increasing_id', 'month', 'months', 'months_between', 'nanvl', 'next_day', 'np', 'nth_value', 'ntile', 'octet_length', 'overlay', 'overload', 'pandas_udf', 'percent_rank', 'percentile_approx', 'pmod', 'posexplode', 'posexplode_outer', 'pow', 'product', 'quarter', 'radians', 'raise_error', 'rand', 'randn', 'rank', 'regexp_extract', 'regexp_replace', 'repeat', 'reverse', 'rint', 'round', 'row_number', 'rpad', 'rtrim', 'schema_of_csv', 'schema_of_json', 'sec', 'second', 'sentences', 'sequence', 'session_window', 'sha1', 'sha2', 'shiftLeft', 'shiftRight', 'shiftRightUnsigned', 'shiftleft', 'shiftright', 'shiftrightunsigned', 'shuffle', 'signum', 'sin', 'sinh', 'size', 'skewness', 'slice', 'sort_array', 'soundex', 'spark_partition_id', 'split', 'sqrt', 'stddev', 'stddev_pop', 'stddev_samp', 'struct', 'substring', 'substring_index', 'sum', 'sumDistinct', 'sum_distinct', 'sys', 'tan', 'tanh', 'timestamp_seconds', 'toDegrees', 'toRadians', 'to_csv', 'to_date', 'to_json', 'to_str', 'to_timestamp', 'to_utc_timestamp', 'transform', 'transform_keys', 'transform_values', 'translate', 'trim', 'trunc', 'try_remote_functions', 'udf', 'unbase64', 'unhex', 'unix_timestamp', 'unwrap_udt', 'upper', 'var_pop', 'var_samp', 'variance', 'warnings', 'weekofyear', 'when', 'window', 'window_time', 'xxhash64', 'year', 'years', 'zip_with']\n"
          ]
        }
      ],
      "source": [
        "# Check all the functions we can use\n",
        "print(dir(functions))"
      ]
    },
    {
      "cell_type": "markdown",
      "metadata": {
        "id": "cUdFkI-wP_Sd"
      },
      "source": [
        "#### String functions"
      ]
    },
    {
      "cell_type": "code",
      "execution_count": 32,
      "metadata": {
        "colab": {
          "base_uri": "https://localhost:8080/"
        },
        "id": "qu10RimsPuTr",
        "outputId": "5ec90192-c3fe-4da1-8809-0d79cdd1311f"
      },
      "outputs": [
        {
          "output_type": "stream",
          "name": "stdout",
          "text": [
            "Help on function substring in module pyspark.sql.functions:\n",
            "\n",
            "substring(str: 'ColumnOrName', pos: int, len: int) -> pyspark.sql.column.Column\n",
            "    Substring starts at `pos` and is of length `len` when str is String type or\n",
            "    returns the slice of byte array that starts at `pos` in byte and is of length `len`\n",
            "    when str is Binary type.\n",
            "    \n",
            "    .. versionadded:: 1.5.0\n",
            "    \n",
            "    .. versionchanged:: 3.4.0\n",
            "        Supports Spark Connect.\n",
            "    \n",
            "    Notes\n",
            "    -----\n",
            "    The position is not zero based, but 1 based index.\n",
            "    \n",
            "    Parameters\n",
            "    ----------\n",
            "    str : :class:`~pyspark.sql.Column` or str\n",
            "        target column to work on.\n",
            "    pos : int\n",
            "        starting position in str.\n",
            "    len : int\n",
            "        length of chars.\n",
            "    \n",
            "    Returns\n",
            "    -------\n",
            "    :class:`~pyspark.sql.Column`\n",
            "        substring of given value.\n",
            "    \n",
            "    Examples\n",
            "    --------\n",
            "    >>> df = spark.createDataFrame([('abcd',)], ['s',])\n",
            "    >>> df.select(substring(df.s, 1, 2).alias('s')).collect()\n",
            "    [Row(s='ab')]\n",
            "\n"
          ]
        }
      ],
      "source": [
        "# Display the Primary Type column in lower and upper characters, and the first 4 charaters of the column\n",
        "from pyspark.sql.functions import lower, upper, substring\n",
        "help(substring)"
      ]
    },
    {
      "cell_type": "code",
      "execution_count": 33,
      "metadata": {
        "colab": {
          "base_uri": "https://localhost:8080/"
        },
        "id": "qGHX5XvqPuXM",
        "outputId": "2a89bea9-7ef4-442a-b6c0-fc59c09de408"
      },
      "outputs": [
        {
          "output_type": "stream",
          "name": "stdout",
          "text": [
            "root\n",
            " |-- ID: string (nullable = true)\n",
            " |-- Case Number: string (nullable = true)\n",
            " |-- Date: timestamp (nullable = true)\n",
            " |-- Block: string (nullable = true)\n",
            " |-- Primary Type: string (nullable = true)\n",
            " |-- Description: string (nullable = true)\n",
            " |-- Location Description: string (nullable = true)\n",
            " |-- Arrest: string (nullable = true)\n",
            " |-- Domestic: string (nullable = true)\n",
            " |-- Beat: string (nullable = true)\n",
            " |-- District: string (nullable = true)\n",
            " |-- Ward: string (nullable = true)\n",
            " |-- Community Area: string (nullable = true)\n",
            " |-- FBI Code: string (nullable = true)\n",
            " |-- X Coordinate: string (nullable = true)\n",
            " |-- Y Coordinate: string (nullable = true)\n",
            " |-- Year: string (nullable = true)\n",
            " |-- Updated On: string (nullable = true)\n",
            " |-- Latitude: string (nullable = true)\n",
            " |-- Longitude: string (nullable = true)\n",
            " |-- Location: string (nullable = true)\n",
            "\n"
          ]
        }
      ],
      "source": [
        "rc.printSchema()"
      ]
    },
    {
      "cell_type": "code",
      "execution_count": 34,
      "metadata": {
        "colab": {
          "base_uri": "https://localhost:8080/"
        },
        "id": "29NHoKwePubM",
        "outputId": "0f14a10d-5db4-49ce-b1d0-a6ac28984db9"
      },
      "outputs": [
        {
          "output_type": "stream",
          "name": "stdout",
          "text": [
            "+-------------------+-------------------+-----------------------------+\n",
            "|lower(Primary Type)|upper(Primary Type)|substring(Primary Type, 1, 4)|\n",
            "+-------------------+-------------------+-----------------------------+\n",
            "|            battery|            BATTERY|                         BATT|\n",
            "| deceptive practice| DECEPTIVE PRACTICE|                         DECE|\n",
            "| deceptive practice| DECEPTIVE PRACTICE|                         DECE|\n",
            "| deceptive practice| DECEPTIVE PRACTICE|                         DECE|\n",
            "|              theft|              THEFT|                         THEF|\n",
            "+-------------------+-------------------+-----------------------------+\n",
            "only showing top 5 rows\n",
            "\n"
          ]
        }
      ],
      "source": [
        "rc.select(lower(col('Primary Type')), upper(col('Primary Type')),substring(col('Primary Type'),1,4)).show(5)"
      ]
    },
    {
      "cell_type": "markdown",
      "metadata": {
        "id": "H5J99e5cRO8N"
      },
      "source": [
        "#### Numerical Function"
      ]
    },
    {
      "cell_type": "code",
      "execution_count": 35,
      "metadata": {
        "colab": {
          "base_uri": "https://localhost:8080/"
        },
        "id": "tx9qd3xmsopQ",
        "outputId": "31ad5b01-1ce8-4867-a6fb-798476db1fc9"
      },
      "outputs": [
        {
          "output_type": "stream",
          "name": "stdout",
          "text": [
            "+-------------------+-------------------+-------------------+\n",
            "|          min(Date)|          max(Date)|          min(Date)|\n",
            "+-------------------+-------------------+-------------------+\n",
            "|2001-01-01 01:00:00|2018-11-11 12:58:00|2001-01-01 01:00:00|\n",
            "+-------------------+-------------------+-------------------+\n",
            "\n"
          ]
        }
      ],
      "source": [
        "# Check the oldest date and the most recent date\n",
        "from pyspark.sql.functions import min,max\n",
        "rc.select(min(col('Date')),max(col('Date')),min(col('Date'))).show(1)"
      ]
    },
    {
      "cell_type": "markdown",
      "metadata": {
        "id": "RiUTD9tsRzgM"
      },
      "source": [
        "#### Date Function"
      ]
    },
    {
      "cell_type": "code",
      "execution_count": 36,
      "metadata": {
        "colab": {
          "base_uri": "https://localhost:8080/"
        },
        "id": "7WCWz812RSZM",
        "outputId": "bcdeb6bd-2488-4b13-99bf-94b3c3b38106"
      },
      "outputs": [
        {
          "output_type": "stream",
          "name": "stdout",
          "text": [
            "Help on function date_add in module pyspark.sql.functions:\n",
            "\n",
            "date_add(start: 'ColumnOrName', days: Union[ForwardRef('ColumnOrName'), int]) -> pyspark.sql.column.Column\n",
            "    Returns the date that is `days` days after `start`. If `days` is a negative value\n",
            "    then these amount of days will be deducted from `start`.\n",
            "    \n",
            "    .. versionadded:: 1.5.0\n",
            "    \n",
            "    .. versionchanged:: 3.4.0\n",
            "        Supports Spark Connect.\n",
            "    \n",
            "    Parameters\n",
            "    ----------\n",
            "    start : :class:`~pyspark.sql.Column` or str\n",
            "        date column to work on.\n",
            "    days : :class:`~pyspark.sql.Column` or str or int\n",
            "        how many days after the given date to calculate.\n",
            "        Accepts negative value as well to calculate backwards in time.\n",
            "    \n",
            "    Returns\n",
            "    -------\n",
            "    :class:`~pyspark.sql.Column`\n",
            "        a date after/before given number of days.\n",
            "    \n",
            "    Examples\n",
            "    --------\n",
            "    >>> df = spark.createDataFrame([('2015-04-08', 2,)], ['dt', 'add'])\n",
            "    >>> df.select(date_add(df.dt, 1).alias('next_date')).collect()\n",
            "    [Row(next_date=datetime.date(2015, 4, 9))]\n",
            "    >>> df.select(date_add(df.dt, df.add.cast('integer')).alias('next_date')).collect()\n",
            "    [Row(next_date=datetime.date(2015, 4, 10))]\n",
            "    >>> df.select(date_add('dt', -1).alias('prev_date')).collect()\n",
            "    [Row(prev_date=datetime.date(2015, 4, 7))]\n",
            "\n"
          ]
        }
      ],
      "source": [
        "# What is 3 days earlier than the oldest date and 3 days later than the most rencent date?\n",
        "from pyspark.sql.functions import date_add,date_sub\n",
        "help(date_add)"
      ]
    },
    {
      "cell_type": "code",
      "execution_count": 37,
      "metadata": {
        "colab": {
          "base_uri": "https://localhost:8080/"
        },
        "id": "9P_96snLRSb-",
        "outputId": "3976c6b6-33c4-48cf-b93c-7c7ac73e36d4"
      },
      "outputs": [
        {
          "output_type": "stream",
          "name": "stdout",
          "text": [
            "+----------------------+----------------------+\n",
            "|date_sub(min(Date), 3)|date_add(max(Date), 3)|\n",
            "+----------------------+----------------------+\n",
            "|            2000-12-29|            2018-11-14|\n",
            "+----------------------+----------------------+\n",
            "\n"
          ]
        }
      ],
      "source": [
        "rc.select(date_sub(min(col('Date')),3),date_add(max(col('Date')),3)).show(1)"
      ]
    },
    {
      "cell_type": "code",
      "execution_count": 38,
      "metadata": {
        "colab": {
          "base_uri": "https://localhost:8080/"
        },
        "id": "Is-Y2x4tRSes",
        "outputId": "bbb81af1-eb69-4bb8-9864-2fcf3e3d8dc1"
      },
      "outputs": [
        {
          "output_type": "stream",
          "name": "stdout",
          "text": [
            "+-------------------+\n",
            "|          Christmas|\n",
            "+-------------------+\n",
            "|2019-12-25 12:20:00|\n",
            "+-------------------+\n",
            "\n"
          ]
        }
      ],
      "source": [
        "from pyspark.sql.functions import to_date, to_timestamp,lit\n",
        "df = spark.createDataFrame([('2019-12-25 12:20:00',)],['Christmas'])\n",
        "df.show(1)"
      ]
    },
    {
      "cell_type": "code",
      "execution_count": 42,
      "metadata": {
        "colab": {
          "base_uri": "https://localhost:8080/"
        },
        "id": "aFzddLSKRShU",
        "outputId": "c2c940d0-a18c-4243-929b-f48eb4611d8b"
      },
      "outputs": [
        {
          "output_type": "stream",
          "name": "stdout",
          "text": [
            "+---------------------------------------+--------------------------------------------+\n",
            "|to_date(Christmas, yyyy-MM-dd HH:mm:ss)|to_timestamp(Christmas, yyyy-MM-dd HH:mm:ss)|\n",
            "+---------------------------------------+--------------------------------------------+\n",
            "|                             2019-12-25|                         2019-12-25 12:20:00|\n",
            "+---------------------------------------+--------------------------------------------+\n",
            "\n"
          ]
        }
      ],
      "source": [
        " df.select(to_date(col('Christmas'),'yyyy-MM-dd HH:mm:ss'),to_timestamp(col('Christmas'),'yyyy-MM-dd HH:mm:ss')).show(1)"
      ]
    },
    {
      "cell_type": "code",
      "execution_count": 43,
      "metadata": {
        "colab": {
          "base_uri": "https://localhost:8080/"
        },
        "id": "4Dpmkr0fUuuk",
        "outputId": "3d523646-7f0f-4d4c-d1c8-3617e72bfa28"
      },
      "outputs": [
        {
          "output_type": "stream",
          "name": "stdout",
          "text": [
            "+--------+-----------+-------------------+--------------------+----+------------------+--------------------+--------------------+------+--------+----+--------+----+--------------+--------+------------+------------+----+--------------------+--------+---------+--------+\n",
            "|      ID|Case Number|               Date|               Block|IUCR|      Primary Type|         Description|Location Description|Arrest|Domestic|Beat|District|Ward|Community Area|FBI Code|X Coordinate|Y Coordinate|Year|          Updated On|Latitude|Longitude|Location|\n",
            "+--------+-----------+-------------------+--------------------+----+------------------+--------------------+--------------------+------+--------+----+--------+----+--------------+--------+------------+------------+----+--------------------+--------+---------+--------+\n",
            "|11646166|   JC213529|2018-09-01 00:01:00|082XX S INGLESIDE...|0810|             THEFT|           OVER $500|           RESIDENCE| false|    true|0631|     006|   8|            44|      06|        null|        null|2018|04/06/2019 04:04:...|    null|     null|    null|\n",
            "|11645836|   JC212333|2016-05-01 00:25:00| 055XX S ROCKWELL ST|1153|DECEPTIVE PRACTICE|FINANCIAL IDENTIT...|                null| false|   false|0824|     008|  15|            63|      11|        null|        null|2016|04/06/2019 04:04:...|    null|     null|    null|\n",
            "|11243268|   JB167760|2017-01-01 00:01:00|    047XX N CLARK ST|1562|       SEX OFFENSE|AGG CRIMINAL SEXU...|           APARTMENT| false|   false|1913|     019|  47|             3|      17|        null|        null|2017|09/13/2018 03:56:...|    null|     null|    null|\n",
            "| 1896258|    G749215|2001-12-15 02:00:00|    011XX N STATE ST|0460|           BATTERY|              SIMPLE|              STREET| false|   false|1824|     018|null|          null|     08B|        null|        null|2001|08/17/2015 03:03:...|    null|     null|    null|\n",
            "|11645527|   JC212744|2015-02-02 10:00:00|  069XX W ARCHER AVE|1153|DECEPTIVE PRACTICE|FINANCIAL IDENTIT...|               OTHER| false|   false|0811|     008|  23|            56|      11|        null|        null|2015|04/06/2019 04:04:...|    null|     null|    null|\n",
            "+--------+-----------+-------------------+--------------------+----+------------------+--------------------+--------------------+------+--------+----+--------+----+--------------+--------+------------+------------+----+--------------------+--------+---------+--------+\n",
            "only showing top 5 rows\n",
            "\n"
          ]
        }
      ],
      "source": [
        "nrc = spark.read.csv('crimes_report.csv',header=True).withColumn('Date', to_timestamp(col('Date'),'MM/dd/yyyy hh:mm:ss a'))\n",
        "nrc.show(5,truncate=True)"
      ]
    },
    {
      "cell_type": "markdown",
      "metadata": {
        "id": "RsS2vL5mbkGz"
      },
      "source": [
        "####Joins"
      ]
    },
    {
      "cell_type": "code",
      "execution_count": 44,
      "metadata": {
        "colab": {
          "base_uri": "https://localhost:8080/"
        },
        "id": "K4YyZiLgUuxv",
        "outputId": "d2508a30-2440-4ab1-fa5b-498d09c42cec"
      },
      "outputs": [
        {
          "output_type": "stream",
          "name": "stdout",
          "text": [
            "--2023-08-20 19:05:00--  https://data.cityofchicago.org/api/views/z8bn-74gv/rows.csv?accessType=DOWNLOAD\n",
            "Resolving data.cityofchicago.org (data.cityofchicago.org)... 52.206.140.199, 52.206.140.205, 52.206.68.26\n",
            "Connecting to data.cityofchicago.org (data.cityofchicago.org)|52.206.140.199|:443... connected.\n",
            "HTTP request sent, awaiting response... 200 OK\n",
            "Length: unspecified [text/csv]\n",
            "Saving to: ‘police_station.csv’\n",
            "\n",
            "police_station.csv      [ <=>                ]   5.57K  --.-KB/s    in 0s      \n",
            "\n",
            "2023-08-20 19:05:01 (1.68 GB/s) - ‘police_station.csv’ saved [5699]\n",
            "\n",
            "total 2191988\n",
            "-rw-r--r--  1 root root 1856229146 Aug 12 10:58 crimes_report.csv\n",
            "-rw-r--r--  1 root root       5699 Aug 19  2019 police_station.csv\n",
            "drwxr-xr-x  1 root root       4096 Aug 17 13:29 sample_data\n",
            "drwxr-xr-x 13 1000 1000       4096 Jun 19 23:23 spark-3.4.1-bin-hadoop3\n",
            "-rw-r--r--  1 root root  388341449 Jun 19 23:25 spark-3.4.1-bin-hadoop3.tgz\n"
          ]
        }
      ],
      "source": [
        "# Download plice station dataset\n",
        "!wget -O police_station.csv https://data.cityofchicago.org/api/views/z8bn-74gv/rows.csv?accessType=DOWNLOAD\n",
        "!ls -l"
      ]
    },
    {
      "cell_type": "code",
      "execution_count": 45,
      "metadata": {
        "colab": {
          "base_uri": "https://localhost:8080/"
        },
        "id": "4Am7tuWRUu0c",
        "outputId": "ec0f4b7d-31c1-4534-9805-233183ef9e69"
      },
      "outputs": [
        {
          "output_type": "stream",
          "name": "stdout",
          "text": [
            "+------------+-------------+-------------------+-------+-----+-----+--------------------+------------+------------+------------+------------+------------+-----------+------------+--------------------+\n",
            "|    DISTRICT|DISTRICT NAME|            ADDRESS|   CITY|STATE|  ZIP|             WEBSITE|       PHONE|         FAX|         TTY|X COORDINATE|Y COORDINATE|   LATITUDE|   LONGITUDE|            LOCATION|\n",
            "+------------+-------------+-------------------+-------+-----+-----+--------------------+------------+------------+------------+------------+------------+-----------+------------+--------------------+\n",
            "|Headquarters| Headquarters|3510 S Michigan Ave|Chicago|   IL|60653|http://home.chica...|        null|        null|        null| 1177731.401| 1881697.404|41.83070169|-87.62339535|(41.8307016873, -...|\n",
            "|          18|   Near North| 1160 N Larrabee St|Chicago|   IL|60610|http://home.chica...|312-742-5870|312-742-5771|312-742-5773| 1172080.029| 1908086.527|41.90324165|-87.64335214|(41.9032416531, -...|\n",
            "|          19|    Town Hall|   850 W Addison St|Chicago|   IL|60613|http://home.chica...|312-744-8320|312-744-4481|312-744-8011| 1169730.744| 1924160.317|41.94740046|-87.65151202|(41.9474004564, -...|\n",
            "|          20|      Lincoln| 5400 N Lincoln Ave|Chicago|   IL|60625|http://home.chica...|312-742-8714|312-742-8803|312-742-8841| 1158399.146| 1935788.826|41.97954951|-87.69284451|(41.9795495131, -...|\n",
            "|          22|  Morgan Park|1900 W Monterey Ave|Chicago|   IL|60643|http://home.chica...|312-745-0710|312-745-0814|312-745-0569| 1165825.476| 1830851.333|41.69143478|-87.66852039|(41.6914347795, -...|\n",
            "+------------+-------------+-------------------+-------+-----+-----+--------------------+------------+------------+------------+------------+------------+-----------+------------+--------------------+\n",
            "only showing top 5 rows\n",
            "\n"
          ]
        }
      ],
      "source": [
        "ps = spark.read.csv('police_station.csv', header=True)\n",
        "ps.show(5)"
      ]
    },
    {
      "cell_type": "code",
      "execution_count": 46,
      "metadata": {
        "colab": {
          "base_uri": "https://localhost:8080/"
        },
        "id": "BMoaVcMEUu3D",
        "outputId": "d7b22118-51b8-4368-c48b-4539b121b9fc"
      },
      "outputs": [
        {
          "output_type": "execute_result",
          "data": {
            "text/plain": [
              "2484958"
            ]
          },
          "metadata": {},
          "execution_count": 46
        }
      ],
      "source": [
        "# The reported crimes dataset only has the district number. We will add the district name by joining with the police station dataset\n",
        "rc.cache()\n",
        "rc.count()"
      ]
    },
    {
      "cell_type": "code",
      "execution_count": 47,
      "metadata": {
        "colab": {
          "base_uri": "https://localhost:8080/"
        },
        "id": "i_1hccSgUu6T",
        "outputId": "6352df74-beaa-42fb-9fd0-e51a966f26ed"
      },
      "outputs": [
        {
          "output_type": "stream",
          "name": "stdout",
          "text": [
            "+--------------------+\n",
            "|            DISTRICT|\n",
            "+--------------------+\n",
            "|                   7|\n",
            "|                  15|\n",
            "|                  11|\n",
            "|                   3|\n",
            "|                   8|\n",
            "|                  22|\n",
            "|                  16|\n",
            "|                   5|\n",
            "|                  18|\n",
            "|                  17|\n",
            "|                   6|\n",
            "|                  19|\n",
            "|                  25|\n",
            "|        Headquarters|\n",
            "|                  24|\n",
            "|                   9|\n",
            "|                   1|\n",
            "|                  20|\n",
            "|                  10|\n",
            "|                   4|\n",
            "|                  12|\n",
            "|                  14|\n",
            "|                   2|\n",
            "|\",Chicago,IL,6060...|\n",
            "+--------------------+\n",
            "\n"
          ]
        }
      ],
      "source": [
        "ps.select(col('DISTRICT')).distinct().show(30)"
      ]
    },
    {
      "cell_type": "code",
      "execution_count": 48,
      "metadata": {
        "colab": {
          "base_uri": "https://localhost:8080/"
        },
        "id": "3CNk98A6dI2k",
        "outputId": "18de2f21-377a-43b7-8d3c-7491452fc444"
      },
      "outputs": [
        {
          "output_type": "stream",
          "name": "stdout",
          "text": [
            "+--------+\n",
            "|District|\n",
            "+--------+\n",
            "|     009|\n",
            "|     012|\n",
            "|     024|\n",
            "|     031|\n",
            "|     015|\n",
            "|     006|\n",
            "|     019|\n",
            "|     020|\n",
            "|     011|\n",
            "|     025|\n",
            "|     003|\n",
            "|     005|\n",
            "|     016|\n",
            "|     018|\n",
            "|     008|\n",
            "|     022|\n",
            "|     001|\n",
            "|     014|\n",
            "|     010|\n",
            "|     004|\n",
            "|     017|\n",
            "|     007|\n",
            "|     002|\n",
            "|    null|\n",
            "+--------+\n",
            "\n"
          ]
        }
      ],
      "source": [
        "rc.select('District').distinct().show(30)"
      ]
    },
    {
      "cell_type": "code",
      "execution_count": 49,
      "metadata": {
        "colab": {
          "base_uri": "https://localhost:8080/"
        },
        "id": "BmMWH7oEdI5V",
        "outputId": "faf7c6d0-0d3e-4ddc-d53a-28e724f7348c"
      },
      "outputs": [
        {
          "output_type": "stream",
          "name": "stdout",
          "text": [
            "Help on function lpad in module pyspark.sql.functions:\n",
            "\n",
            "lpad(col: 'ColumnOrName', len: int, pad: str) -> pyspark.sql.column.Column\n",
            "    Left-pad the string column to width `len` with `pad`.\n",
            "    \n",
            "    .. versionadded:: 1.5.0\n",
            "    \n",
            "    .. versionchanged:: 3.4.0\n",
            "        Supports Spark Connect.\n",
            "    \n",
            "    Parameters\n",
            "    ----------\n",
            "    col : :class:`~pyspark.sql.Column` or str\n",
            "        target column to work on.\n",
            "    len : int\n",
            "        length of the final string.\n",
            "    pad : str\n",
            "        chars to prepend.\n",
            "    \n",
            "    Returns\n",
            "    -------\n",
            "    :class:`~pyspark.sql.Column`\n",
            "        left padded result.\n",
            "    \n",
            "    Examples\n",
            "    --------\n",
            "    >>> df = spark.createDataFrame([('abcd',)], ['s',])\n",
            "    >>> df.select(lpad(df.s, 6, '#').alias('s')).collect()\n",
            "    [Row(s='##abcd')]\n",
            "\n"
          ]
        }
      ],
      "source": [
        "from pyspark.sql.functions import lpad\n",
        "help(lpad)"
      ]
    },
    {
      "cell_type": "code",
      "execution_count": 50,
      "metadata": {
        "colab": {
          "base_uri": "https://localhost:8080/"
        },
        "id": "3QWd7kP6dI8L",
        "outputId": "6e34493a-5de8-431f-c590-f864b36cf619"
      },
      "outputs": [
        {
          "output_type": "stream",
          "name": "stdout",
          "text": [
            "+--------------------+\n",
            "|lpad(DISTRICT, 3, 0)|\n",
            "+--------------------+\n",
            "|                 Hea|\n",
            "|                 018|\n",
            "|                 019|\n",
            "|                 020|\n",
            "|                 022|\n",
            "|                 024|\n",
            "|                 025|\n",
            "|                 001|\n",
            "|                 002|\n",
            "|                 003|\n",
            "|                 004|\n",
            "|                 005|\n",
            "|                 006|\n",
            "|                 007|\n",
            "|                 008|\n",
            "|                 009|\n",
            "|                 010|\n",
            "|                 011|\n",
            "|                 012|\n",
            "|                 \",C|\n",
            "+--------------------+\n",
            "only showing top 20 rows\n",
            "\n"
          ]
        }
      ],
      "source": [
        "# We need to add 0s in front of the DISTRICT column in the ps dataset to make the same format as that column in cs dataset\n",
        "ps.select(lpad(col('DISTRICT'),3,'0')).show()"
      ]
    },
    {
      "cell_type": "code",
      "execution_count": 51,
      "metadata": {
        "colab": {
          "base_uri": "https://localhost:8080/"
        },
        "id": "bnamLS9ZdJBz",
        "outputId": "407191b6-ecec-4d38-e0ac-244020e6b3a0"
      },
      "outputs": [
        {
          "output_type": "stream",
          "name": "stdout",
          "text": [
            "+------------+-------------+-------------------+-------+-----+-----+--------------------+------------+------------+------------+------------+------------+-----------+------------+--------------------+---------------+\n",
            "|    DISTRICT|DISTRICT NAME|            ADDRESS|   CITY|STATE|  ZIP|             WEBSITE|       PHONE|         FAX|         TTY|X COORDINATE|Y COORDINATE|   LATITUDE|   LONGITUDE|            LOCATION|Format_district|\n",
            "+------------+-------------+-------------------+-------+-----+-----+--------------------+------------+------------+------------+------------+------------+-----------+------------+--------------------+---------------+\n",
            "|Headquarters| Headquarters|3510 S Michigan Ave|Chicago|   IL|60653|http://home.chica...|        null|        null|        null| 1177731.401| 1881697.404|41.83070169|-87.62339535|(41.8307016873, -...|            Hea|\n",
            "|          18|   Near North| 1160 N Larrabee St|Chicago|   IL|60610|http://home.chica...|312-742-5870|312-742-5771|312-742-5773| 1172080.029| 1908086.527|41.90324165|-87.64335214|(41.9032416531, -...|            018|\n",
            "|          19|    Town Hall|   850 W Addison St|Chicago|   IL|60613|http://home.chica...|312-744-8320|312-744-4481|312-744-8011| 1169730.744| 1924160.317|41.94740046|-87.65151202|(41.9474004564, -...|            019|\n",
            "|          20|      Lincoln| 5400 N Lincoln Ave|Chicago|   IL|60625|http://home.chica...|312-742-8714|312-742-8803|312-742-8841| 1158399.146| 1935788.826|41.97954951|-87.69284451|(41.9795495131, -...|            020|\n",
            "|          22|  Morgan Park|1900 W Monterey Ave|Chicago|   IL|60643|http://home.chica...|312-745-0710|312-745-0814|312-745-0569| 1165825.476| 1830851.333|41.69143478|-87.66852039|(41.6914347795, -...|            022|\n",
            "+------------+-------------+-------------------+-------+-----+-----+--------------------+------------+------------+------------+------------+------------+-----------+------------+--------------------+---------------+\n",
            "only showing top 5 rows\n",
            "\n"
          ]
        }
      ],
      "source": [
        "ps = ps.withColumn('Format_district',lpad(col('DISTRICT'),3,'0'))\n",
        "ps.show(5)"
      ]
    },
    {
      "cell_type": "code",
      "execution_count": 52,
      "metadata": {
        "colab": {
          "base_uri": "https://localhost:8080/"
        },
        "id": "izI6R4o2eRhL",
        "outputId": "232dcb4b-e3ce-457d-bb60-603e9f4cf9ea"
      },
      "outputs": [
        {
          "output_type": "stream",
          "name": "stdout",
          "text": [
            "+--------+-----------+-------------------+--------------------+--------------------+--------------------+--------------------+------+--------+----+--------+----+--------------+--------+------------+------------+----+--------------------+------------+-------------+--------------------+--------+--------------+--------------------+-------+-----+-----+--------------------+------------+------------+------------+------------+------------+-----------+------------+--------------------+---------------+\n",
            "|      ID|Case Number|               Date|               Block|        Primary Type|         Description|Location Description|Arrest|Domestic|Beat|District|Ward|Community Area|FBI Code|X Coordinate|Y Coordinate|Year|          Updated On|    Latitude|    Longitude|            Location|DISTRICT| DISTRICT NAME|             ADDRESS|   CITY|STATE|  ZIP|             WEBSITE|       PHONE|         FAX|         TTY|X COORDINATE|Y COORDINATE|   LATITUDE|   LONGITUDE|            LOCATION|Format_district|\n",
            "+--------+-----------+-------------------+--------------------+--------------------+--------------------+--------------------+------+--------+----+--------+----+--------------+--------+------------+------------+----+--------------------+------------+-------------+--------------------+--------+--------------+--------------------+-------+-----+-----+--------------------+------------+------------+------------+------------+------------+-----------+------------+--------------------+---------------+\n",
            "| 1896258|    G749215|2001-12-15 02:00:00|    011XX N STATE ST|             BATTERY|              SIMPLE|              STREET| false|   false|1824|     018|null|          null|     08B|        null|        null|2001|08/17/2015 03:03:...|        null|         null|                null|      18|    Near North|  1160 N Larrabee St|Chicago|   IL|60610|http://home.chica...|312-742-5870|312-742-5771|312-742-5773| 1172080.029| 1908086.527|41.90324165|-87.64335214|(41.9032416531, -...|            018|\n",
            "|11645527|   JC212744|2015-02-02 10:00:00|  069XX W ARCHER AVE|  DECEPTIVE PRACTICE|FINANCIAL IDENTIT...|               OTHER| false|   false|0811|     008|  23|            56|      11|        null|        null|2015|04/06/2019 04:04:...|        null|         null|                null|       8|  Chicago Lawn|      3420 W 63rd St|Chicago|   IL|60629|http://home.chica...|312-747-8730|312-747-8545|312-747-8116| 1154575.242| 1862672.049|41.77898719|-87.70886382|(41.778987189, -8...|            008|\n",
            "|11034701|   JA366925|2001-01-01 11:00:00|     016XX E 86TH PL|  DECEPTIVE PRACTICE|FINANCIAL IDENTIT...|           RESIDENCE| false|   false|0412|     004|   8|            45|      11|        null|        null|2001|08/05/2017 03:50:...|        null|         null|                null|       4| South Chicago|     2255 E 103rd St|Chicago|   IL|60617|http://home.chica...|312-747-7581|312-747-5276|312-747-9169| 1193131.299| 1837090.265|41.70793329|-87.56834912|(41.7079332906, -...|            004|\n",
            "|11645648|   JC212959|2018-01-01 08:00:00| 024XX N MONITOR AVE|  DECEPTIVE PRACTICE|FINANCIAL IDENTIT...|           RESIDENCE| false|   false|2515|     025|  30|            19|      11|        null|        null|2018|04/06/2019 04:04:...|        null|         null|                null|      25| Grand Central|    5555 W Grand Ave|Chicago|   IL|60639|http://home.chica...|312-746-8605|312-746-4353|312-746-8383| 1138770.871| 1913442.439|41.91860889|-87.76557448|(41.9186088912, -...|            025|\n",
            "|11241640|   JB166009|2017-10-13 09:00:00|     019XX E 72ND PL|               THEFT|      $500 AND UNDER|              STREET| false|   false|0333|     003|   5|            43|      06|        null|        null|2017|02/27/2018 03:59:...|        null|         null|                null|       3|Grand Crossing|7040 S Cottage Gr...|Chicago|   IL|60637|http://home.chica...|312-747-8201|312-747-5479|312-747-9168| 1182739.183| 1858317.732|41.76643089|-87.60574786|(41.7664308925, -...|            003|\n",
            "|11160773|   JA515078|2017-11-17 09:45:00| 033XX W FILLMORE ST|           NARCOTICS|POSS: CANNABIS MO...|POLICE FACILITY/V...|  true|   false|1134|     011|  24|            29|      18|        null|        null|2017|02/17/2018 03:52:...|        null|         null|                null|      11|      Harrison|  3151 W Harrison St|Chicago|   IL|60612|http://home.chica...|312-746-8386|312-746-4281|312-746-5151| 1155244.069| 1897148.755|41.87358229|-87.70548813|(41.8735822883, -...|            011|\n",
            "|10225206|   HY412253|2015-09-06 01:10:00|    047XX S STATE ST|             BATTERY| AGGRAVATED: HANDGUN|     VACANT LOT/LAND| false|   false|0224|     002|   3|            38|     04B|     1177070|     1873609|2015|02/10/2018 03:50:...| 41.80852139| -87.62606631|(41.80852139, -87...|       2|     Wentworth|5101 S Wentworth Ave|Chicago|   IL|60609|http://home.chica...|312-747-8366|312-747-5396|312-747-6656| 1175864.837| 1871153.753|41.80181109|-87.63056018|(41.8018110912, -...|            002|\n",
            "|10225234|   HY412306|2015-09-06 02:00:00|002XX N ST LOUIS AVE|             BATTERY|AGGRAVATED:KNIFE/...|            SIDEWALK| false|   false|1123|     011|  28|            27|     04B|     1153006|     1901570|2015|02/10/2018 03:50:...|41.885759278|-87.713588042|(41.885759278, -8...|      11|      Harrison|  3151 W Harrison St|Chicago|   IL|60612|http://home.chica...|312-746-8386|312-746-4281|312-746-5151| 1155244.069| 1897148.755|41.87358229|-87.70548813|(41.8735822883, -...|            011|\n",
            "|11645833|   JC213044|2012-05-05 12:25:00|     057XX W OHIO ST|  DECEPTIVE PRACTICE|FINANCIAL IDENTIT...|                null| false|   false|1511|     015|  29|            25|      11|        null|        null|2012|04/06/2019 04:04:...|        null|         null|                null|      15|        Austin|   5701 W Madison St|Chicago|   IL|60644|http://home.chica...|312-743-1440|312-743-1366|312-743-1485| 1138148.815| 1899399.078|41.88008346|-87.76819989|(41.8800834614, -...|            015|\n",
            "|11227287|   JB147188|2017-10-08 03:00:00|  092XX S RACINE AVE| CRIM SEXUAL ASSAULT|      NON-AGGRAVATED|           RESIDENCE| false|   false|2222|     022|  21|            73|      02|        null|        null|2017|02/11/2018 03:57:...|        null|         null|                null|      22|   Morgan Park| 1900 W Monterey Ave|Chicago|   IL|60643|http://home.chica...|312-745-0710|312-745-0814|312-745-0569| 1165825.476| 1830851.333|41.69143478|-87.66852039|(41.6914347795, -...|            022|\n",
            "|11227634|   JB147599|2017-08-26 10:00:00| 001XX W RANDOLPH ST| CRIM SEXUAL ASSAULT|      NON-AGGRAVATED|         HOTEL/MOTEL| false|   false|0122|     001|  42|            32|      02|        null|        null|2017|02/11/2018 03:57:...|        null|         null|                null|       1|       Central|     1718 S State St|Chicago|   IL|60616|http://home.chica...|312-745-4290|312-745-3694|312-745-3693| 1176569.052| 1891771.704|41.85837259|-87.62735617|(41.8583725929, -...|            001|\n",
            "|10225308|   HY412341|2015-09-06 02:35:00|  013XX W ADDISON ST|LIQUOR LAW VIOLATION|ILLEGAL CONSUMPTI...|            SIDEWALK|  true|   false|1923|     019|  44|             6|      22|     1166847|     1924028|2015|09/17/2015 11:37:...|41.947099832|-87.662115668|(41.947099832, -8...|      19|     Town Hall|    850 W Addison St|Chicago|   IL|60613|http://home.chica...|312-744-8320|312-744-4481|312-744-8011| 1169730.744| 1924160.317|41.94740046|-87.65151202|(41.9474004564, -...|            019|\n",
            "|11037294|   JA371270|2015-03-18 12:00:00|   0000X W WACKER DR|  DECEPTIVE PRACTICE|FINANCIAL IDENTIT...|                BANK| false|   false|0111|     001|  42|            32|      11|        null|        null|2015|08/01/2017 03:52:...|        null|         null|                null|       1|       Central|     1718 S State St|Chicago|   IL|60616|http://home.chica...|312-745-4290|312-745-3694|312-745-3693| 1176569.052| 1891771.704|41.85837259|-87.62735617|(41.8583725929, -...|            001|\n",
            "|11022695|   JA353568|2017-07-17 10:10:00| 021XX W MC LEAN AVE|               THEFT|           OVER $500|           RESIDENCE| false|   false|1432|     014|  32|            22|      06|        null|        null|2017|07/24/2017 03:54:...|        null|         null|                null|      14|   Shakespeare|2150 N California...|Chicago|   IL|60647|http://home.chica...|312-744-8250|312-744-2422|312-744-8260| 1157304.426| 1914481.521|41.92110332|-87.69745182|(41.9211033246, -...|            014|\n",
            "|11227586|   JB147613|2017-02-10 12:00:00|089XX S COTTAGE G...|     CRIMINAL DAMAGE|         TO PROPERTY|           APARTMENT| false|   false|0633|     006|   8|            44|      14|        null|        null|2017|02/11/2018 03:57:...|        null|         null|                null|       6|       Gresham|   7808 S Halsted St|Chicago|   IL|60620|http://home.chica...|312-745-3617|312-745-3649|312-745-3639| 1172283.013| 1853022.646|41.75213684|-87.64422891|(41.7521368378, -...|            006|\n",
            "|11227475|   JB147314|2017-11-22 02:42:00|056XX N CHRISTIAN...|       OTHER OFFENSE|HARASSMENT BY ELE...|           APARTMENT| false|    true|1711|     017|  39|            13|      26|        null|        null|2017|02/11/2018 03:57:...|        null|         null|                null|      17|   Albany Park|   4650 N Pulaski Rd|Chicago|   IL|60630|http://home.chica...|312-742-4410|312-742-5411|312-742-5451|  1148843.91| 1930801.058|41.96605342|-87.72811456|(41.9660534171, -...|            017|\n",
            "|11227247|   JB147078|2012-01-01 09:00:00|105XX S INDIANAPO...|  DECEPTIVE PRACTICE|FINANCIAL IDENTIT...|           RESIDENCE| false|   false|0432|     004|  10|            52|      11|        null|        null|2012|02/11/2018 03:57:...|        null|         null|                null|       4| South Chicago|     2255 E 103rd St|Chicago|   IL|60617|http://home.chica...|312-747-7581|312-747-5276|312-747-9169| 1193131.299| 1837090.265|41.70793329|-87.56834912|(41.7079332906, -...|            004|\n",
            "|11615821|   JC176668|2016-01-01 12:00:00| 054XX N NATCHEZ AVE|  DECEPTIVE PRACTICE|FINAN EXPLOIT-ELD...|           RESIDENCE| false|    true|1613|     016|  45|            10|      11|        null|        null|2016|03/08/2019 04:36:...|        null|         null|                null|      16|Jefferson Park|5151 N Milwaukee Ave|Chicago|   IL|60630|http://home.chica...|312-742-4480|312-742-4421|312-742-4423| 1138480.758| 1933660.473|41.97409445|-87.76614884|(41.9740944511, -...|            016|\n",
            "|11041422|   JA375398|2017-07-29 10:00:00|022XX W WINNEMAC AVE|               THEFT|           OVER $500|    RESIDENCE-GARAGE| false|   false|2031|     020|  47|             4|      06|        null|        null|2017|08/05/2017 03:50:...|        null|         null|                null|      20|       Lincoln|  5400 N Lincoln Ave|Chicago|   IL|60625|http://home.chica...|312-742-8714|312-742-8803|312-742-8841| 1158399.146| 1935788.826|41.97954951|-87.69284451|(41.9795495131, -...|            020|\n",
            "|11042763|   JA376821|2017-07-27 01:00:00|  019XX W AINSLIE ST|               THEFT|       FROM BUILDING|           APARTMENT| false|   false|2032|     020|  47|             4|      06|        null|        null|2017|08/05/2017 03:50:...|        null|         null|                null|      20|       Lincoln|  5400 N Lincoln Ave|Chicago|   IL|60625|http://home.chica...|312-742-8714|312-742-8803|312-742-8841| 1158399.146| 1935788.826|41.97954951|-87.69284451|(41.9795495131, -...|            020|\n",
            "+--------+-----------+-------------------+--------------------+--------------------+--------------------+--------------------+------+--------+----+--------+----+--------------+--------+------------+------------+----+--------------------+------------+-------------+--------------------+--------+--------------+--------------------+-------+-----+-----+--------------------+------------+------------+------------+------------+------------+-----------+------------+--------------------+---------------+\n",
            "only showing top 20 rows\n",
            "\n"
          ]
        }
      ],
      "source": [
        "rc.join(ps, rc.District == ps.Format_district, 'left_outer').show()"
      ]
    },
    {
      "cell_type": "code",
      "execution_count": 53,
      "metadata": {
        "colab": {
          "base_uri": "https://localhost:8080/"
        },
        "id": "OHrjcnp8eRkf",
        "outputId": "250aca11-5922-49ad-f94b-eba1f52c6fd2"
      },
      "outputs": [
        {
          "output_type": "execute_result",
          "data": {
            "text/plain": [
              "['DISTRICT',\n",
              " 'DISTRICT NAME',\n",
              " 'ADDRESS',\n",
              " 'CITY',\n",
              " 'STATE',\n",
              " 'ZIP',\n",
              " 'WEBSITE',\n",
              " 'PHONE',\n",
              " 'FAX',\n",
              " 'TTY',\n",
              " 'X COORDINATE',\n",
              " 'Y COORDINATE',\n",
              " 'LATITUDE',\n",
              " 'LONGITUDE',\n",
              " 'LOCATION',\n",
              " 'Format_district']"
            ]
          },
          "metadata": {},
          "execution_count": 53
        }
      ],
      "source": [
        "ps.columns"
      ]
    },
    {
      "cell_type": "code",
      "execution_count": 54,
      "metadata": {
        "colab": {
          "base_uri": "https://localhost:8080/"
        },
        "id": "EhRcyt5SdJEm",
        "outputId": "3ba98fa6-778c-4948-8913-ef95c62fe012"
      },
      "outputs": [
        {
          "output_type": "stream",
          "name": "stdout",
          "text": [
            "+--------+-----------+-------------------+--------------------+--------------------+--------------------+--------------------+------+--------+----+--------+----+--------------+--------+----+--------------------+--------+--------------+---------------+\n",
            "|      ID|Case Number|               Date|               Block|        Primary Type|         Description|Location Description|Arrest|Domestic|Beat|District|Ward|Community Area|FBI Code|Year|          Updated On|DISTRICT| DISTRICT NAME|Format_district|\n",
            "+--------+-----------+-------------------+--------------------+--------------------+--------------------+--------------------+------+--------+----+--------+----+--------------+--------+----+--------------------+--------+--------------+---------------+\n",
            "| 1896258|    G749215|2001-12-15 02:00:00|    011XX N STATE ST|             BATTERY|              SIMPLE|              STREET| false|   false|1824|     018|null|          null|     08B|2001|08/17/2015 03:03:...|      18|    Near North|            018|\n",
            "|11645527|   JC212744|2015-02-02 10:00:00|  069XX W ARCHER AVE|  DECEPTIVE PRACTICE|FINANCIAL IDENTIT...|               OTHER| false|   false|0811|     008|  23|            56|      11|2015|04/06/2019 04:04:...|       8|  Chicago Lawn|            008|\n",
            "|11034701|   JA366925|2001-01-01 11:00:00|     016XX E 86TH PL|  DECEPTIVE PRACTICE|FINANCIAL IDENTIT...|           RESIDENCE| false|   false|0412|     004|   8|            45|      11|2001|08/05/2017 03:50:...|       4| South Chicago|            004|\n",
            "|11645648|   JC212959|2018-01-01 08:00:00| 024XX N MONITOR AVE|  DECEPTIVE PRACTICE|FINANCIAL IDENTIT...|           RESIDENCE| false|   false|2515|     025|  30|            19|      11|2018|04/06/2019 04:04:...|      25| Grand Central|            025|\n",
            "|11241640|   JB166009|2017-10-13 09:00:00|     019XX E 72ND PL|               THEFT|      $500 AND UNDER|              STREET| false|   false|0333|     003|   5|            43|      06|2017|02/27/2018 03:59:...|       3|Grand Crossing|            003|\n",
            "|11160773|   JA515078|2017-11-17 09:45:00| 033XX W FILLMORE ST|           NARCOTICS|POSS: CANNABIS MO...|POLICE FACILITY/V...|  true|   false|1134|     011|  24|            29|      18|2017|02/17/2018 03:52:...|      11|      Harrison|            011|\n",
            "|10225206|   HY412253|2015-09-06 01:10:00|    047XX S STATE ST|             BATTERY| AGGRAVATED: HANDGUN|     VACANT LOT/LAND| false|   false|0224|     002|   3|            38|     04B|2015|02/10/2018 03:50:...|       2|     Wentworth|            002|\n",
            "|10225234|   HY412306|2015-09-06 02:00:00|002XX N ST LOUIS AVE|             BATTERY|AGGRAVATED:KNIFE/...|            SIDEWALK| false|   false|1123|     011|  28|            27|     04B|2015|02/10/2018 03:50:...|      11|      Harrison|            011|\n",
            "|11645833|   JC213044|2012-05-05 12:25:00|     057XX W OHIO ST|  DECEPTIVE PRACTICE|FINANCIAL IDENTIT...|                null| false|   false|1511|     015|  29|            25|      11|2012|04/06/2019 04:04:...|      15|        Austin|            015|\n",
            "|11227287|   JB147188|2017-10-08 03:00:00|  092XX S RACINE AVE| CRIM SEXUAL ASSAULT|      NON-AGGRAVATED|           RESIDENCE| false|   false|2222|     022|  21|            73|      02|2017|02/11/2018 03:57:...|      22|   Morgan Park|            022|\n",
            "|11227634|   JB147599|2017-08-26 10:00:00| 001XX W RANDOLPH ST| CRIM SEXUAL ASSAULT|      NON-AGGRAVATED|         HOTEL/MOTEL| false|   false|0122|     001|  42|            32|      02|2017|02/11/2018 03:57:...|       1|       Central|            001|\n",
            "|10225308|   HY412341|2015-09-06 02:35:00|  013XX W ADDISON ST|LIQUOR LAW VIOLATION|ILLEGAL CONSUMPTI...|            SIDEWALK|  true|   false|1923|     019|  44|             6|      22|2015|09/17/2015 11:37:...|      19|     Town Hall|            019|\n",
            "|11037294|   JA371270|2015-03-18 12:00:00|   0000X W WACKER DR|  DECEPTIVE PRACTICE|FINANCIAL IDENTIT...|                BANK| false|   false|0111|     001|  42|            32|      11|2015|08/01/2017 03:52:...|       1|       Central|            001|\n",
            "|11022695|   JA353568|2017-07-17 10:10:00| 021XX W MC LEAN AVE|               THEFT|           OVER $500|           RESIDENCE| false|   false|1432|     014|  32|            22|      06|2017|07/24/2017 03:54:...|      14|   Shakespeare|            014|\n",
            "|11227586|   JB147613|2017-02-10 12:00:00|089XX S COTTAGE G...|     CRIMINAL DAMAGE|         TO PROPERTY|           APARTMENT| false|   false|0633|     006|   8|            44|      14|2017|02/11/2018 03:57:...|       6|       Gresham|            006|\n",
            "|11227475|   JB147314|2017-11-22 02:42:00|056XX N CHRISTIAN...|       OTHER OFFENSE|HARASSMENT BY ELE...|           APARTMENT| false|    true|1711|     017|  39|            13|      26|2017|02/11/2018 03:57:...|      17|   Albany Park|            017|\n",
            "|11227247|   JB147078|2012-01-01 09:00:00|105XX S INDIANAPO...|  DECEPTIVE PRACTICE|FINANCIAL IDENTIT...|           RESIDENCE| false|   false|0432|     004|  10|            52|      11|2012|02/11/2018 03:57:...|       4| South Chicago|            004|\n",
            "|11615821|   JC176668|2016-01-01 12:00:00| 054XX N NATCHEZ AVE|  DECEPTIVE PRACTICE|FINAN EXPLOIT-ELD...|           RESIDENCE| false|    true|1613|     016|  45|            10|      11|2016|03/08/2019 04:36:...|      16|Jefferson Park|            016|\n",
            "|11041422|   JA375398|2017-07-29 10:00:00|022XX W WINNEMAC AVE|               THEFT|           OVER $500|    RESIDENCE-GARAGE| false|   false|2031|     020|  47|             4|      06|2017|08/05/2017 03:50:...|      20|       Lincoln|            020|\n",
            "|11042763|   JA376821|2017-07-27 01:00:00|  019XX W AINSLIE ST|               THEFT|       FROM BUILDING|           APARTMENT| false|   false|2032|     020|  47|             4|      06|2017|08/05/2017 03:50:...|      20|       Lincoln|            020|\n",
            "+--------+-----------+-------------------+--------------------+--------------------+--------------------+--------------------+------+--------+----+--------+----+--------------+--------+----+--------------------+--------+--------------+---------------+\n",
            "only showing top 20 rows\n",
            "\n"
          ]
        }
      ],
      "source": [
        "rc.join(ps, rc.District == ps.Format_district, 'left_outer').drop(\n",
        " 'ADDRESS',\n",
        " 'CITY',\n",
        " 'STATE',\n",
        " 'ZIP',\n",
        " 'WEBSITE',\n",
        " 'PHONE',\n",
        " 'FAX',\n",
        " 'TTY',\n",
        " 'X COORDINATE',\n",
        " 'Y COORDINATE',\n",
        " 'LATITUDE',\n",
        " 'LONGITUDE',\n",
        " 'LOCATION',\n",
        " ).show()"
      ]
    },
    {
      "cell_type": "code",
      "execution_count": 55,
      "metadata": {
        "colab": {
          "base_uri": "https://localhost:8080/"
        },
        "id": "OJ2wFFG9fgoD",
        "outputId": "15fd2b2e-1cce-4e30-f10b-3a39edaa7c13"
      },
      "outputs": [
        {
          "output_type": "execute_result",
          "data": {
            "text/plain": [
              "2484958"
            ]
          },
          "metadata": {},
          "execution_count": 55
        }
      ],
      "source": [
        "# The most frequently reported non-criminal activity\n",
        "rc.cache()\n",
        "rc.count()"
      ]
    },
    {
      "cell_type": "code",
      "execution_count": 56,
      "metadata": {
        "colab": {
          "base_uri": "https://localhost:8080/"
        },
        "id": "pXLLlFIwfgrC",
        "outputId": "048fa831-fe6b-40b0-f6ba-6266e56b6e01"
      },
      "outputs": [
        {
          "output_type": "stream",
          "name": "stdout",
          "text": [
            "+--------+-----------+-------------------+--------------------+--------------------+--------------------+--------------------+------+--------+----+--------+----+--------------+--------+------------+------------+----+--------------------+------------+-------------+--------------------+\n",
            "|      ID|Case Number|               Date|               Block|        Primary Type|         Description|Location Description|Arrest|Domestic|Beat|District|Ward|Community Area|FBI Code|X Coordinate|Y Coordinate|Year|          Updated On|    Latitude|    Longitude|            Location|\n",
            "+--------+-----------+-------------------+--------------------+--------------------+--------------------+--------------------+------+--------+----+--------+----+--------------+--------+------------+------------+----+--------------------+------------+-------------+--------------------+\n",
            "| 1896258|    G749215|2001-12-15 02:00:00|    011XX N STATE ST|             BATTERY|              SIMPLE|              STREET| false|   false|1824|     018|null|          null|     08B|        null|        null|2001|08/17/2015 03:03:...|        null|         null|                null|\n",
            "|11645527|   JC212744|2015-02-02 10:00:00|  069XX W ARCHER AVE|  DECEPTIVE PRACTICE|FINANCIAL IDENTIT...|               OTHER| false|   false|0811|     008|  23|            56|      11|        null|        null|2015|04/06/2019 04:04:...|        null|         null|                null|\n",
            "|11034701|   JA366925|2001-01-01 11:00:00|     016XX E 86TH PL|  DECEPTIVE PRACTICE|FINANCIAL IDENTIT...|           RESIDENCE| false|   false|0412|     004|   8|            45|      11|        null|        null|2001|08/05/2017 03:50:...|        null|         null|                null|\n",
            "|11645648|   JC212959|2018-01-01 08:00:00| 024XX N MONITOR AVE|  DECEPTIVE PRACTICE|FINANCIAL IDENTIT...|           RESIDENCE| false|   false|2515|     025|  30|            19|      11|        null|        null|2018|04/06/2019 04:04:...|        null|         null|                null|\n",
            "|11241640|   JB166009|2017-10-13 09:00:00|     019XX E 72ND PL|               THEFT|      $500 AND UNDER|              STREET| false|   false|0333|     003|   5|            43|      06|        null|        null|2017|02/27/2018 03:59:...|        null|         null|                null|\n",
            "|11160773|   JA515078|2017-11-17 09:45:00| 033XX W FILLMORE ST|           NARCOTICS|POSS: CANNABIS MO...|POLICE FACILITY/V...|  true|   false|1134|     011|  24|            29|      18|        null|        null|2017|02/17/2018 03:52:...|        null|         null|                null|\n",
            "|10225206|   HY412253|2015-09-06 01:10:00|    047XX S STATE ST|             BATTERY| AGGRAVATED: HANDGUN|     VACANT LOT/LAND| false|   false|0224|     002|   3|            38|     04B|     1177070|     1873609|2015|02/10/2018 03:50:...| 41.80852139| -87.62606631|(41.80852139, -87...|\n",
            "|10225234|   HY412306|2015-09-06 02:00:00|002XX N ST LOUIS AVE|             BATTERY|AGGRAVATED:KNIFE/...|            SIDEWALK| false|   false|1123|     011|  28|            27|     04B|     1153006|     1901570|2015|02/10/2018 03:50:...|41.885759278|-87.713588042|(41.885759278, -8...|\n",
            "|11645833|   JC213044|2012-05-05 12:25:00|     057XX W OHIO ST|  DECEPTIVE PRACTICE|FINANCIAL IDENTIT...|                null| false|   false|1511|     015|  29|            25|      11|        null|        null|2012|04/06/2019 04:04:...|        null|         null|                null|\n",
            "|11227287|   JB147188|2017-10-08 03:00:00|  092XX S RACINE AVE| CRIM SEXUAL ASSAULT|      NON-AGGRAVATED|           RESIDENCE| false|   false|2222|     022|  21|            73|      02|        null|        null|2017|02/11/2018 03:57:...|        null|         null|                null|\n",
            "|11227634|   JB147599|2017-08-26 10:00:00| 001XX W RANDOLPH ST| CRIM SEXUAL ASSAULT|      NON-AGGRAVATED|         HOTEL/MOTEL| false|   false|0122|     001|  42|            32|      02|        null|        null|2017|02/11/2018 03:57:...|        null|         null|                null|\n",
            "|10225308|   HY412341|2015-09-06 02:35:00|  013XX W ADDISON ST|LIQUOR LAW VIOLATION|ILLEGAL CONSUMPTI...|            SIDEWALK|  true|   false|1923|     019|  44|             6|      22|     1166847|     1924028|2015|09/17/2015 11:37:...|41.947099832|-87.662115668|(41.947099832, -8...|\n",
            "|11037294|   JA371270|2015-03-18 12:00:00|   0000X W WACKER DR|  DECEPTIVE PRACTICE|FINANCIAL IDENTIT...|                BANK| false|   false|0111|     001|  42|            32|      11|        null|        null|2015|08/01/2017 03:52:...|        null|         null|                null|\n",
            "|11022695|   JA353568|2017-07-17 10:10:00| 021XX W MC LEAN AVE|               THEFT|           OVER $500|           RESIDENCE| false|   false|1432|     014|  32|            22|      06|        null|        null|2017|07/24/2017 03:54:...|        null|         null|                null|\n",
            "|11227586|   JB147613|2017-02-10 12:00:00|089XX S COTTAGE G...|     CRIMINAL DAMAGE|         TO PROPERTY|           APARTMENT| false|   false|0633|     006|   8|            44|      14|        null|        null|2017|02/11/2018 03:57:...|        null|         null|                null|\n",
            "|11227475|   JB147314|2017-11-22 02:42:00|056XX N CHRISTIAN...|       OTHER OFFENSE|HARASSMENT BY ELE...|           APARTMENT| false|    true|1711|     017|  39|            13|      26|        null|        null|2017|02/11/2018 03:57:...|        null|         null|                null|\n",
            "|11227247|   JB147078|2012-01-01 09:00:00|105XX S INDIANAPO...|  DECEPTIVE PRACTICE|FINANCIAL IDENTIT...|           RESIDENCE| false|   false|0432|     004|  10|            52|      11|        null|        null|2012|02/11/2018 03:57:...|        null|         null|                null|\n",
            "|11615821|   JC176668|2016-01-01 12:00:00| 054XX N NATCHEZ AVE|  DECEPTIVE PRACTICE|FINAN EXPLOIT-ELD...|           RESIDENCE| false|    true|1613|     016|  45|            10|      11|        null|        null|2016|03/08/2019 04:36:...|        null|         null|                null|\n",
            "|11041422|   JA375398|2017-07-29 10:00:00|022XX W WINNEMAC AVE|               THEFT|           OVER $500|    RESIDENCE-GARAGE| false|   false|2031|     020|  47|             4|      06|        null|        null|2017|08/05/2017 03:50:...|        null|         null|                null|\n",
            "|11042763|   JA376821|2017-07-27 01:00:00|  019XX W AINSLIE ST|               THEFT|       FROM BUILDING|           APARTMENT| false|   false|2032|     020|  47|             4|      06|        null|        null|2017|08/05/2017 03:50:...|        null|         null|                null|\n",
            "+--------+-----------+-------------------+--------------------+--------------------+--------------------+--------------------+------+--------+----+--------+----+--------------+--------+------------+------------+----+--------------------+------------+-------------+--------------------+\n",
            "only showing top 20 rows\n",
            "\n"
          ]
        }
      ],
      "source": [
        "rc.show()"
      ]
    },
    {
      "cell_type": "code",
      "execution_count": 57,
      "metadata": {
        "colab": {
          "base_uri": "https://localhost:8080/"
        },
        "id": "ZIYYyjKhfguG",
        "outputId": "d64df592-d7da-4fdf-c771-e73f96dc02ad"
      },
      "outputs": [
        {
          "output_type": "execute_result",
          "data": {
            "text/plain": [
              "36"
            ]
          },
          "metadata": {},
          "execution_count": 57
        }
      ],
      "source": [
        "rc.select(col('Primary Type')).distinct().count()"
      ]
    },
    {
      "cell_type": "code",
      "execution_count": 58,
      "metadata": {
        "colab": {
          "base_uri": "https://localhost:8080/"
        },
        "id": "WBQiV7FIhzRq",
        "outputId": "7d328154-a552-4428-9a7e-96160e1b2946"
      },
      "outputs": [
        {
          "output_type": "stream",
          "name": "stdout",
          "text": [
            "+--------------------+\n",
            "|        Primary Type|\n",
            "+--------------------+\n",
            "|OFFENSE INVOLVING...|\n",
            "|CRIMINAL SEXUAL A...|\n",
            "|            STALKING|\n",
            "|PUBLIC PEACE VIOL...|\n",
            "|           OBSCENITY|\n",
            "|               ARSON|\n",
            "|            GAMBLING|\n",
            "|   CRIMINAL TRESPASS|\n",
            "|             ASSAULT|\n",
            "|      NON - CRIMINAL|\n",
            "|LIQUOR LAW VIOLATION|\n",
            "| MOTOR VEHICLE THEFT|\n",
            "|               THEFT|\n",
            "|             BATTERY|\n",
            "|             ROBBERY|\n",
            "|            HOMICIDE|\n",
            "|    PUBLIC INDECENCY|\n",
            "| CRIM SEXUAL ASSAULT|\n",
            "|   HUMAN TRAFFICKING|\n",
            "|        INTIMIDATION|\n",
            "+--------------------+\n",
            "only showing top 20 rows\n",
            "\n"
          ]
        }
      ],
      "source": [
        "rc.select(col('Primary Type')).distinct().show()"
      ]
    },
    {
      "cell_type": "code",
      "execution_count": 59,
      "metadata": {
        "colab": {
          "base_uri": "https://localhost:8080/"
        },
        "id": "31oMtF9thzUq",
        "outputId": "d89cb197-b302-401a-d2a7-dc4deeab72f6"
      },
      "outputs": [
        {
          "output_type": "stream",
          "name": "stdout",
          "text": [
            "+---------------------------------+\n",
            "|Primary Type                     |\n",
            "+---------------------------------+\n",
            "|ARSON                            |\n",
            "|ASSAULT                          |\n",
            "|BATTERY                          |\n",
            "|BURGLARY                         |\n",
            "|CONCEALED CARRY LICENSE VIOLATION|\n",
            "|CRIM SEXUAL ASSAULT              |\n",
            "|CRIMINAL DAMAGE                  |\n",
            "|CRIMINAL SEXUAL ASSAULT          |\n",
            "|CRIMINAL TRESPASS                |\n",
            "|DECEPTIVE PRACTICE               |\n",
            "|DOMESTIC VIOLENCE                |\n",
            "|GAMBLING                         |\n",
            "|HOMICIDE                         |\n",
            "|HUMAN TRAFFICKING                |\n",
            "|INTERFERENCE WITH PUBLIC OFFICER |\n",
            "|INTIMIDATION                     |\n",
            "|KIDNAPPING                       |\n",
            "|LIQUOR LAW VIOLATION             |\n",
            "|MOTOR VEHICLE THEFT              |\n",
            "|NARCOTICS                        |\n",
            "|NON - CRIMINAL                   |\n",
            "|NON-CRIMINAL                     |\n",
            "|NON-CRIMINAL (SUBJECT SPECIFIED) |\n",
            "|OBSCENITY                        |\n",
            "|OFFENSE INVOLVING CHILDREN       |\n",
            "|OTHER NARCOTIC VIOLATION         |\n",
            "|OTHER OFFENSE                    |\n",
            "|PROSTITUTION                     |\n",
            "|PUBLIC INDECENCY                 |\n",
            "|PUBLIC PEACE VIOLATION           |\n",
            "|RITUALISM                        |\n",
            "|ROBBERY                          |\n",
            "|SEX OFFENSE                      |\n",
            "|STALKING                         |\n",
            "|THEFT                            |\n",
            "|WEAPONS VIOLATION                |\n",
            "+---------------------------------+\n",
            "\n"
          ]
        }
      ],
      "source": [
        "rc.select(col('Primary Type')).distinct().orderBy(col('Primary Type')).show(37,truncate=False)"
      ]
    },
    {
      "cell_type": "code",
      "execution_count": 60,
      "metadata": {
        "colab": {
          "base_uri": "https://localhost:8080/"
        },
        "id": "lf0CUgjhhzXj",
        "outputId": "2df351f9-0a24-48b3-e1a0-789e340c74c9"
      },
      "outputs": [
        {
          "output_type": "stream",
          "name": "stdout",
          "text": [
            "+--------+-----------+-------------------+--------------------+--------------+--------------------+--------------------+------+--------+----+--------+----+--------------+--------+------------+------------+----+--------------------+------------+-------------+--------------------+\n",
            "|      ID|Case Number|               Date|               Block|  Primary Type|         Description|Location Description|Arrest|Domestic|Beat|District|Ward|Community Area|FBI Code|X Coordinate|Y Coordinate|Year|          Updated On|    Latitude|    Longitude|            Location|\n",
            "+--------+-----------+-------------------+--------------------+--------------+--------------------+--------------------+------+--------+----+--------+----+--------------+--------+------------+------------+----+--------------------+------------+-------------+--------------------+\n",
            "|11249289|   JB176638|2016-12-23 12:00:00| 0000X N CENTRAL AVE|  NON-CRIMINAL|       LOST PASSPORT|           RESIDENCE| false|   false|1513|     015|  29|            25|      26|        null|        null|2016|03/08/2018 03:55:...|        null|         null|                null|\n",
            "|10625887|   HZ378355|2016-08-02 09:00:00|  054XX N ELSTON AVE|  NON-CRIMINAL|       LOST PASSPORT|GOVERNMENT BUILDI...| false|   false|1621|     016|  45|            11|      26|     1140460|     1935678|2016|02/10/2018 03:50:...| 41.97959452|-87.758820763|(41.97959452, -87...|\n",
            "|10686750|   HZ440626|2016-09-17 10:00:00|005XX N MILWAUKEE...|  NON-CRIMINAL|       LOST PASSPORT|           CTA TRAIN| false|   false|1214|     012|  27|            24|      26|     1170867|     1903766|2016|02/10/2018 03:50:...|41.891412551|-87.647934597|(41.891412551, -8...|\n",
            "|11397021|   JB371684|2017-10-30 09:00:00|015XX W HOLLYWOOD...|  NON-CRIMINAL|       LOST PASSPORT|           APARTMENT| false|   false|2012|     020|  40|            77|      26|        null|        null|2017|07/31/2018 03:50:...|        null|         null|                null|\n",
            "|10579978|   HZ328710|2015-12-25 09:00:00|036XX W FULLERTON...|  NON-CRIMINAL|       LOST PASSPORT|            SIDEWALK| false|   false|2525|     025|  35|            22|      26|        null|        null|2015|06/30/2016 03:51:...|        null|         null|                null|\n",
            "|10422305|   HZ160770|2009-02-22 08:00:00|     024XX W 24TH PL|  NON-CRIMINAL|       LOST PASSPORT|               OTHER| false|   false|1034|     010|  25|            31|      26|        null|        null|2009|02/22/2016 04:09:...|        null|         null|                null|\n",
            "|10072565|   HY261001|2015-05-14 10:30:00|    006XX N WELLS ST|NON - CRIMINAL|   FOID - REVOCATION|              STREET| false|   false|1832|     018|  42|             8|      26|     1174623|     1904537|2015|02/10/2018 03:50:...| 41.89344506|-87.634117632|(41.89344506, -87...|\n",
            "|10109156|   HY297801|2015-06-12 09:00:00|    053XX S NEVA AVE|NON - CRIMINAL|   FOID - REVOCATION|           RESIDENCE| false|   false|0811|     008|  23|            56|      26|     1129584|     1868411|2015|02/10/2018 03:50:...|41.795197456|-87.800355525|(41.795197456, -8...|\n",
            "|10128364|   HY316525|2015-06-26 10:45:00|035XX S MICHIGAN AVE|NON - CRIMINAL|   FOID - REVOCATION|POLICE FACILITY/V...| false|   false|0213|     002|   3|            35|      26|     1177772|     1881665|2015|02/10/2018 03:50:...|41.830611847|-87.623247369|(41.830611847, -8...|\n",
            "|10157940|   HY347539|2015-07-08 10:30:00| 016XX W CHICAGO AVE|  NON-CRIMINAL|       LOST PASSPORT|              STREET| false|   false|1215|     012|   1|            24|      26|     1165158|     1905410|2015|02/10/2018 03:50:...|41.896047034|-87.668854221|(41.896047034, -8...|\n",
            "|10181019|   HY369010|2015-08-01 10:15:00|  079XX S KEDZIE AVE|NON - CRIMINAL|   FOID - REVOCATION|           RESIDENCE| false|   false|0835|     008|  18|            70|      26|     1156427|     1851731|2015|02/10/2018 03:50:...|41.748926157| -87.70236927|(41.748926157, -8...|\n",
            "|10213039|   HY398172|2015-08-26 11:45:00| 0000X W TERMINAL ST|  NON-CRIMINAL|       LOST PASSPORT|AIRPORT TERMINAL ...| false|   false|1653|     016|  41|            76|      26|     1101811|     1934419|2015|02/10/2018 03:50:...|41.976762981|-87.900983721|(41.976762981, -8...|\n",
            "|10233370|   HY421530|2015-09-13 10:45:00|  010XX S MENARD AVE|NON - CRIMINAL|   FOID - REVOCATION|           RESIDENCE|  true|   false|1513|     015|  29|            25|      26|     1137869|     1895239|2015|02/10/2018 03:50:...|41.868672696|-87.769327726|(41.868672696, -8...|\n",
            "|10241515|   HY429346|2015-09-19 07:45:00|051XX N MILWAUKEE...|NON - CRIMINAL|   FOID - REVOCATION|POLICE FACILITY/V...|  true|   false|1623|     016|  45|            11|      26|     1138424|     1933673|2015|02/10/2018 03:50:...|41.974129858|-87.766357256|(41.974129858, -8...|\n",
            "|10351482|   HY541941|2015-12-13 08:30:00|    100XX W OHARE ST|  NON-CRIMINAL|       LOST PASSPORT|AIRPORT TERMINAL ...| false|   false|1651|     016|  41|            76|      26|     1100658|     1934241|2015|02/10/2018 03:50:...|41.976290414|-87.905227221|(41.976290414, -8...|\n",
            "|10401279|   HZ137710|2016-02-02 07:00:00| 068XX S CRANDON AVE|NON - CRIMINAL|   FOID - REVOCATION|           APARTMENT| false|   false|0331|     003|   5|            43|      26|     1192506|     1859959|2016|02/10/2018 03:50:...|41.770702367|-87.569896036|(41.770702367, -8...|\n",
            "|10405784|   HZ142394|2016-02-06 11:20:00|031XX W FRANKLIN ...|NON - CRIMINAL|   FOID - REVOCATION|              STREET|  true|   false|1221|     012|  27|            23|      26|     1155334|     1903164|2016|02/10/2018 03:50:...|41.890086914|-87.704996246|(41.890086914, -8...|\n",
            "|10407502|   HZ143549|2016-02-07 11:00:00|    100XX W OHARE ST|  NON-CRIMINAL|       LOST PASSPORT|            AIRCRAFT| false|   false|1651|     016|  41|            76|      26|     1100658|     1934241|2016|02/10/2018 03:50:...|41.976290414|-87.905227221|(41.976290414, -8...|\n",
            "|10410240|   HZ146595|2016-02-10 09:07:00|045XX W CONGRESS ...|NON - CRIMINAL|   FOID - REVOCATION|           RESIDENCE| false|   false|1131|     011|  24|            26|      26|     1146319|     1897308|2016|02/10/2018 03:50:...|41.874193745|-87.738252825|(41.874193745, -8...|\n",
            "|10422489|   HZ160886|2016-02-12 12:00:00|  029XX S NORMAL AVE|  NON-CRIMINAL|       LOST PASSPORT|               OTHER| false|   false|0914|     009|  11|            60|      26|     1173433|     1885534|2016|02/10/2018 03:50:...|41.841326028|-87.639052486|(41.841326028, -8...|\n",
            "|10433951|   HZ171487|2016-03-02 08:30:00|035XX S MICHIGAN AVE|  NON-CRIMINAL|   FOID - REVOCATION|GOVERNMENT BUILDI...| false|   false|0213|     002|   3|            35|      26|     1177772|     1881665|2016|02/10/2018 03:50:...|41.830611847|-87.623247369|(41.830611847, -8...|\n",
            "|10441625|   HZ177884|2016-03-07 10:00:00|  051XX S MOBILE AVE|  NON-CRIMINAL|   FOID - REVOCATION|           RESIDENCE| false|   false|0811|     008|  23|            56|      26|     1135240|     1869914|2016|02/10/2018 03:50:...|41.799223854|-87.779578905|(41.799223854, -8...|\n",
            "|10446561|   HZ182837|2016-03-11 08:30:00|    0000X S CLARK ST|  NON-CRIMINAL|   FOID - REVOCATION|            SIDEWALK| false|   false|0122|     001|  42|            32|      26|     1175543|     1900205|2016|02/10/2018 03:50:...|41.881537188|-87.630869076|(41.881537188, -8...|\n",
            "|10450540|   HZ187848|2016-03-15 09:30:00|     026XX W 63RD ST|  NON-CRIMINAL|   FOID - REVOCATION|            SIDEWALK| false|   false|0825|     008|  15|            66|      26|     1160040|     1862784|2016|02/10/2018 03:50:...|41.779183752|-87.688826305|(41.779183752, -8...|\n",
            "|10467662|   HZ206450|2016-01-13 12:00:00|022XX S PRINCETON...|  NON-CRIMINAL|       LOST PASSPORT|              STREET| false|   false|0914|     009|  25|            34|      26|     1174562|     1889549|2016|02/10/2018 03:50:...| 41.85231838|-87.634789632|(41.85231838, -87...|\n",
            "|10499415|   HZ240662|2016-04-26 06:20:00|061XX S FRANCISCO...|  NON-CRIMINAL|   FOID - REVOCATION|           RESIDENCE| false|   false|0823|     008|  15|            66|      26|     1158100|     1863778|2016|02/10/2018 03:50:...|41.781951111|-87.695911577|(41.781951111, -8...|\n",
            "|10529400|   HZ271882|2016-05-20 08:06:00|035XX S MICHIGAN AVE|  NON-CRIMINAL|   FOID - REVOCATION|GOVERNMENT BUILDI...| false|   false|0213|     002|   3|            35|      26|     1177772|     1881665|2016|02/10/2018 03:50:...|41.830611847|-87.623247369|(41.830611847, -8...|\n",
            "|10557299|   HZ304492|2016-06-12 12:00:00| 004XX W MONTROSE DR|  NON-CRIMINAL|      FOUND PASSPORT|       PARK PROPERTY| false|   false|1914|     019|  46|             3|      26|     1172489|     1929728|2016|02/10/2018 03:50:...|41.962617686| -87.64120818|(41.962617686, -8...|\n",
            "|10576557|   HZ325106|2016-06-23 12:15:00|   004XX W NORTH AVE|  NON-CRIMINAL|   FOID - REVOCATION|           APARTMENT| false|   false|1821|     018|  43|             8|      26|     1172925|     1910954|2016|02/10/2018 03:50:...|41.911091456|-87.640163298|(41.911091456, -8...|\n",
            "|10592395|   HZ340883|2016-06-25 09:00:00|  059XX N LEADER AVE|  NON-CRIMINAL|       LOST PASSPORT|               OTHER| false|   false|1621|     016|  45|            12|      26|     1141170|     1939151|2016|02/10/2018 03:50:...|  41.9891116|-87.756123562|(41.9891116, -87....|\n",
            "|10604826|   HZ356522|2016-07-07 09:00:00|     035XX S WOOD ST|  NON-CRIMINAL|       LOST PASSPORT|           RESIDENCE| false|   false|0912|     009|  11|            59|      26|     1164929|     1881227|2016|02/10/2018 03:50:...|41.829691573|-87.670381153|(41.829691573, -8...|\n",
            "|10643356|   HZ394709|2016-08-15 11:00:00| 019XX N KEDVALE AVE|  NON-CRIMINAL|       LOST PASSPORT|CHURCH/SYNAGOGUE/...| false|   false|2534|     025|  30|            20|      26|     1148410|     1912535|2016|02/10/2018 03:50:...|41.915938216|-87.730182538|(41.915938216, -8...|\n",
            "|10646361|   HZ397306|2016-08-18 12:15:00|     010XX W 14TH PL|  NON-CRIMINAL|   FOID - REVOCATION|           APARTMENT| false|   false|1232|     012|  25|            28|      26|     1169625|     1893228|2016|02/10/2018 03:50:...| 41.86252264|-87.652802708|(41.86252264, -87...|\n",
            "|10676939|   HZ429718|2016-08-28 12:00:00|035XX S COTTAGE G...|  NON-CRIMINAL|       LOST PASSPORT|           RESIDENCE| false|   false|0212|     002|   4|            36|      26|     1181286|     1881718|2016|02/10/2018 03:50:...|41.830676853|-87.610352872|(41.830676853, -8...|\n",
            "|10687883|   HZ442137|2016-09-06 12:00:00|032XX N NOTTINGHA...|  NON-CRIMINAL|       LOST PASSPORT|              STREET| false|   false|1632|     016|  36|            17|      26|     1128191|     1920619|2016|02/10/2018 03:50:...|41.938487898|-87.804283939|(41.938487898, -8...|\n",
            "|10695068|   HZ450111|2016-09-16 07:00:00|   009XX W WINONA ST|  NON-CRIMINAL|       LOST PASSPORT|           APARTMENT| false|   false|2024|     020|  48|             3|      26|     1169059|     1934323|2016|02/10/2018 03:50:...|41.975301836|-87.653684867|(41.975301836, -8...|\n",
            "|10695148|   HZ450309|2016-09-26 12:15:00|   055XX W GRAND AVE|  NON-CRIMINAL|CONCEALED CARRY L...|GOVERNMENT BUILDI...| false|   false|2515|     025|  29|            19|      15|     1138788|     1913480|2016|02/10/2018 03:50:...|41.918711651| -87.76551063|(41.918711651, -8...|\n",
            "|10721717|   HZ480448|2016-10-19 10:00:00|009XX S LAWNDALE AVE|  NON-CRIMINAL|   FOID - REVOCATION|               OTHER| false|   false|1133|     011|  24|            29|      26|     1151870|     1895706|2016|02/10/2018 03:50:...|41.869690264|-87.717914102|(41.869690264, -8...|\n",
            "|10725803|   HZ484737|2016-09-25 09:00:00|  035XX W LYNDALE ST|  NON-CRIMINAL|       LOST PASSPORT|           APARTMENT| false|   false|1413|     014|  26|            22|      26|     1152212|     1914724|2016|02/10/2018 03:50:...|41.921870802|-87.716156262|(41.921870802, -8...|\n",
            "|10735734|   HZ495381|2016-10-28 12:00:00| 051XX S ASHLAND AVE|  NON-CRIMINAL|       LOST PASSPORT|              STREET| false|   false|0932|     009|  16|            61|      26|     1166541|     1870734|2016|02/10/2018 03:50:...|41.800863342|-87.664766276|(41.800863342, -8...|\n",
            "|10747461|   HZ508536|2016-11-09 06:30:00|  031XX S RACINE AVE|  NON-CRIMINAL|   FOID - REVOCATION|           RESIDENCE| false|   false|0913|     009|  11|            60|      26|     1168824|     1884088|2016|02/10/2018 03:50:...|41.837459061|-87.656007701|(41.837459061, -8...|\n",
            "|10794850|   HZ565854|2016-12-02 12:00:00|045XX N CLARENDON...|  NON-CRIMINAL|       LOST PASSPORT|            SIDEWALK| false|   false|1914|     019|  46|             3|      26|     1170091|     1930547|2016|02/10/2018 03:50:...| 41.96491786|-87.650000625|(41.96491786, -87...|\n",
            "|10811316|   JA110558|2017-01-09 09:00:00|0000X E ROOSEVELT RD|  NON-CRIMINAL|       LOST PASSPORT|              STREET| false|   false|0131|     001|   2|            33|      26|     1177096|     1895080|2017|02/14/2017 03:49:...|41.867438864|-87.625321814|(41.867438864, -8...|\n",
            "|10815270|   JA114693|2016-11-21 12:00:00|  043XX N ELSTON AVE|  NON-CRIMINAL|       LOST PASSPORT|          RESTAURANT| false|   false|1722|     017|  39|            16|      26|     1148820|     1928573|2016|02/10/2018 03:50:...|41.959939927|-87.728260326|(41.959939927, -8...|\n",
            "|10894161|   JA204856|2017-03-29 12:30:00|  042XX W FOSTER AVE|  NON-CRIMINAL|      FOUND PASSPORT|       PARK PROPERTY| false|   false|1712|     017|  39|            13|      26|     1147194|     1934221|2017|02/10/2018 03:50:...|41.975469804|-87.734093075|(41.975469804, -8...|\n",
            "|10955485|   JA275821|2017-05-20 03:00:00|025XX N MILWAUKEE...|  NON-CRIMINAL|       LOST PASSPORT|       BAR OR TAVERN|  true|   false|1414|     014|  35|            22|      26|     1155378|     1916716|2017|02/10/2018 03:50:...|41.927273891|-87.704469775|(41.927273891, -8...|\n",
            "|10970573|   JA294481|2017-06-02 07:00:00|    100XX W OHARE ST|  NON-CRIMINAL|       LOST PASSPORT|AIRPORT TERMINAL ...| false|   false|1651|     016|  41|            76|      26|     1100658|     1934241|2017|02/10/2018 03:50:...|41.976290414|-87.905227221|(41.976290414, -8...|\n",
            "|10971197|   JA295080|2017-05-01 07:00:00|   049XX S DAMEN AVE|  NON-CRIMINAL|       LOST PASSPORT|           RESIDENCE| false|   false|0931|     009|  16|            61|      26|     1163858|     1871825|2017|02/10/2018 03:50:...|41.803914023|  -87.6745751|(41.803914023, -8...|\n",
            "|10972447|   JA296395|2017-05-05 12:00:00|  002XX S LEAVITT ST|  NON-CRIMINAL|       LOST PASSPORT|           RESIDENCE| false|   false|1225|     012|   2|            28|      26|     1161776|     1898894|2017|02/10/2018 03:50:...|41.878237784|  -87.6814574|(41.878237784, -8...|\n",
            "|10995966|   JA323239|2017-06-25 12:00:00|037XX N MAGNOLIA AVE|  NON-CRIMINAL|       LOST PASSPORT|            SIDEWALK| false|   false|1923|     019|  44|             6|      26|     1167294|     1924910|2017|02/10/2018 03:50:...|41.949510461|-87.660447175|(41.949510461, -8...|\n",
            "+--------+-----------+-------------------+--------------------+--------------+--------------------+--------------------+------+--------+----+--------+----+--------------+--------+------------+------------+----+--------------------+------------+-------------+--------------------+\n",
            "only showing top 50 rows\n",
            "\n"
          ]
        }
      ],
      "source": [
        "nc = rc.filter((col('Primary Type')== 'NON - CRIMINAL') | (col('Primary Type')== 'NON-CRIMINAL') | (col('Primary Type')== '|NON-CRIMINAL (SUBJECT SPECIFIED)'))\n",
        "nc.show(50)"
      ]
    },
    {
      "cell_type": "code",
      "execution_count": 61,
      "metadata": {
        "colab": {
          "base_uri": "https://localhost:8080/"
        },
        "id": "fK56fkQffgws",
        "outputId": "dcd333f3-613c-4897-dd72-0c144fdd4ea2"
      },
      "outputs": [
        {
          "output_type": "stream",
          "name": "stdout",
          "text": [
            "+-------------------------------------------+-----+\n",
            "|Description                                |count|\n",
            "+-------------------------------------------+-----+\n",
            "|LOST PASSPORT                              |46   |\n",
            "|FOID - REVOCATION                          |40   |\n",
            "|NOTIFICATION OF STALKING - NO CONTACT ORDER|4    |\n",
            "|CONCEALED CARRY LICENSE REVOCATION         |3    |\n",
            "|FOUND PASSPORT                             |2    |\n",
            "+-------------------------------------------+-----+\n",
            "\n"
          ]
        }
      ],
      "source": [
        "nc.groupBy(col('Description')).count().orderBy('count',ascending=False).show(truncate=False)"
      ]
    },
    {
      "cell_type": "code",
      "execution_count": 62,
      "metadata": {
        "colab": {
          "base_uri": "https://localhost:8080/"
        },
        "id": "-6D8l3HPfgzm",
        "outputId": "0ae9d6ac-58d4-47f8-c74c-a55b52e76025"
      },
      "outputs": [
        {
          "output_type": "stream",
          "name": "stdout",
          "text": [
            "Help on function dayofweek in module pyspark.sql.functions:\n",
            "\n",
            "dayofweek(col: 'ColumnOrName') -> pyspark.sql.column.Column\n",
            "    Extract the day of the week of a given date/timestamp as integer.\n",
            "    Ranges from 1 for a Sunday through to 7 for a Saturday\n",
            "    \n",
            "    .. versionadded:: 2.3.0\n",
            "    \n",
            "    .. versionchanged:: 3.4.0\n",
            "        Supports Spark Connect.\n",
            "    \n",
            "    Parameters\n",
            "    ----------\n",
            "    col : :class:`~pyspark.sql.Column` or str\n",
            "        target date/timestamp column to work on.\n",
            "    \n",
            "    Returns\n",
            "    -------\n",
            "    :class:`~pyspark.sql.Column`\n",
            "        day of the week for given date/timestamp as integer.\n",
            "    \n",
            "    Examples\n",
            "    --------\n",
            "    >>> df = spark.createDataFrame([('2015-04-08',)], ['dt'])\n",
            "    >>> df.select(dayofweek('dt').alias('day')).collect()\n",
            "    [Row(day=4)]\n",
            "\n"
          ]
        }
      ],
      "source": [
        "# Which day of the week has the most number of reported crime?\n",
        "from pyspark.sql.functions import dayofweek\n",
        "help(dayofweek)"
      ]
    },
    {
      "cell_type": "code",
      "execution_count": 63,
      "metadata": {
        "colab": {
          "base_uri": "https://localhost:8080/"
        },
        "id": "M24nppZtjpCq",
        "outputId": "19816399-e16e-4705-f8e3-a81361d61aaa"
      },
      "outputs": [
        {
          "output_type": "stream",
          "name": "stdout",
          "text": [
            "+-------------------+---------------+\n",
            "|               Date|dayofweek(Date)|\n",
            "+-------------------+---------------+\n",
            "|2001-12-15 02:00:00|              7|\n",
            "|2015-02-02 10:00:00|              2|\n",
            "|2001-01-01 11:00:00|              2|\n",
            "|2018-01-01 08:00:00|              2|\n",
            "|2017-10-13 09:00:00|              6|\n",
            "|2017-11-17 09:45:00|              6|\n",
            "|2015-09-06 01:10:00|              1|\n",
            "|2015-09-06 02:00:00|              1|\n",
            "|2012-05-05 12:25:00|              7|\n",
            "|2017-10-08 03:00:00|              1|\n",
            "|2017-08-26 10:00:00|              7|\n",
            "|2015-09-06 02:35:00|              1|\n",
            "|2015-03-18 12:00:00|              4|\n",
            "|2017-07-17 10:10:00|              2|\n",
            "|2017-02-10 12:00:00|              6|\n",
            "|2017-11-22 02:42:00|              4|\n",
            "|2012-01-01 09:00:00|              1|\n",
            "|2016-01-01 12:00:00|              6|\n",
            "|2017-07-29 10:00:00|              7|\n",
            "|2017-07-27 01:00:00|              5|\n",
            "+-------------------+---------------+\n",
            "only showing top 20 rows\n",
            "\n"
          ]
        }
      ],
      "source": [
        "rc.select(col('Date'),dayofweek(col('Date'))).show()"
      ]
    },
    {
      "cell_type": "code",
      "execution_count": 64,
      "metadata": {
        "colab": {
          "base_uri": "https://localhost:8080/"
        },
        "id": "Yuc9pD9WjpFs",
        "outputId": "da5083e3-9c00-4024-bfc5-56fb31983ed6"
      },
      "outputs": [
        {
          "output_type": "stream",
          "name": "stdout",
          "text": [
            "Help on function date_format in module pyspark.sql.functions:\n",
            "\n",
            "date_format(date: 'ColumnOrName', format: str) -> pyspark.sql.column.Column\n",
            "    Converts a date/timestamp/string to a value of string in the format specified by the date\n",
            "    format given by the second argument.\n",
            "    \n",
            "    A pattern could be for instance `dd.MM.yyyy` and could return a string like '18.03.1993'. All\n",
            "    pattern letters of `datetime pattern`_. can be used.\n",
            "    \n",
            "    .. _datetime pattern: https://spark.apache.org/docs/latest/sql-ref-datetime-pattern.html\n",
            "    \n",
            "    .. versionadded:: 1.5.0\n",
            "    \n",
            "    .. versionchanged:: 3.4.0\n",
            "        Supports Spark Connect.\n",
            "    \n",
            "    Notes\n",
            "    -----\n",
            "    Whenever possible, use specialized functions like `year`.\n",
            "    \n",
            "    Parameters\n",
            "    ----------\n",
            "    date : :class:`~pyspark.sql.Column` or str\n",
            "        input column of values to format.\n",
            "    format: str\n",
            "        format to use to represent datetime values.\n",
            "    \n",
            "    Returns\n",
            "    -------\n",
            "    :class:`~pyspark.sql.Column`\n",
            "        string value representing formatted datetime.\n",
            "    \n",
            "    Examples\n",
            "    --------\n",
            "    >>> df = spark.createDataFrame([('2015-04-08',)], ['dt'])\n",
            "    >>> df.select(date_format('dt', 'MM/dd/yyy').alias('date')).collect()\n",
            "    [Row(date='04/08/2015')]\n",
            "\n"
          ]
        }
      ],
      "source": [
        "from pyspark.sql.functions import date_format\n",
        "help(date_format)"
      ]
    },
    {
      "cell_type": "code",
      "execution_count": 65,
      "metadata": {
        "colab": {
          "base_uri": "https://localhost:8080/"
        },
        "id": "L6zeVHlijpIc",
        "outputId": "c15a5f27-6d57-405d-d10b-66b2f07e115e"
      },
      "outputs": [
        {
          "output_type": "stream",
          "name": "stdout",
          "text": [
            "+-------------------+---------------+--------------------+\n",
            "|               Date|dayofweek(Date)|date_format(Date, E)|\n",
            "+-------------------+---------------+--------------------+\n",
            "|2001-12-15 02:00:00|              7|                 Sat|\n",
            "|2015-02-02 10:00:00|              2|                 Mon|\n",
            "|2001-01-01 11:00:00|              2|                 Mon|\n",
            "|2018-01-01 08:00:00|              2|                 Mon|\n",
            "|2017-10-13 09:00:00|              6|                 Fri|\n",
            "|2017-11-17 09:45:00|              6|                 Fri|\n",
            "|2015-09-06 01:10:00|              1|                 Sun|\n",
            "|2015-09-06 02:00:00|              1|                 Sun|\n",
            "|2012-05-05 12:25:00|              7|                 Sat|\n",
            "|2017-10-08 03:00:00|              1|                 Sun|\n",
            "|2017-08-26 10:00:00|              7|                 Sat|\n",
            "|2015-09-06 02:35:00|              1|                 Sun|\n",
            "|2015-03-18 12:00:00|              4|                 Wed|\n",
            "|2017-07-17 10:10:00|              2|                 Mon|\n",
            "|2017-02-10 12:00:00|              6|                 Fri|\n",
            "|2017-11-22 02:42:00|              4|                 Wed|\n",
            "|2012-01-01 09:00:00|              1|                 Sun|\n",
            "|2016-01-01 12:00:00|              6|                 Fri|\n",
            "|2017-07-29 10:00:00|              7|                 Sat|\n",
            "|2017-07-27 01:00:00|              5|                 Thu|\n",
            "+-------------------+---------------+--------------------+\n",
            "only showing top 20 rows\n",
            "\n"
          ]
        }
      ],
      "source": [
        "rc.select(col('Date'),dayofweek(col('Date')),date_format(col('Date'),'E')).show()"
      ]
    },
    {
      "cell_type": "code",
      "execution_count": 66,
      "metadata": {
        "id": "ottPse-FjpLF",
        "colab": {
          "base_uri": "https://localhost:8080/"
        },
        "outputId": "3fae10c2-2759-4f1d-f9d4-1c002b883334"
      },
      "outputs": [
        {
          "output_type": "stream",
          "name": "stdout",
          "text": [
            "+--------------------+------+\n",
            "|date_format(Date, E)| count|\n",
            "+--------------------+------+\n",
            "|                 Sat|367232|\n",
            "|                 Fri|362389|\n",
            "|                 Sun|355682|\n",
            "|                 Thu|352244|\n",
            "|                 Wed|350722|\n",
            "|                 Mon|348625|\n",
            "|                 Tue|348064|\n",
            "+--------------------+------+\n",
            "\n"
          ]
        }
      ],
      "source": [
        "rc.groupBy(date_format(col('Date'),'E')).count().orderBy('count',ascending=False).show()"
      ]
    },
    {
      "cell_type": "code",
      "execution_count": 67,
      "metadata": {
        "id": "OohYRbIhm7AK",
        "colab": {
          "base_uri": "https://localhost:8080/"
        },
        "outputId": "35a80793-a98c-49f9-a96b-19cb014d9217"
      },
      "outputs": [
        {
          "output_type": "execute_result",
          "data": {
            "text/plain": [
              "[Row(date_format(Date, E)='Sun', count=355682),\n",
              " Row(date_format(Date, E)='Mon', count=348625),\n",
              " Row(date_format(Date, E)='Thu', count=352244),\n",
              " Row(date_format(Date, E)='Sat', count=367232),\n",
              " Row(date_format(Date, E)='Wed', count=350722),\n",
              " Row(date_format(Date, E)='Fri', count=362389),\n",
              " Row(date_format(Date, E)='Tue', count=348064)]"
            ]
          },
          "metadata": {},
          "execution_count": 67
        }
      ],
      "source": [
        "rc.groupBy(date_format(col('Date'),'E')).count().collect()"
      ]
    },
    {
      "cell_type": "code",
      "execution_count": 68,
      "metadata": {
        "id": "DCE6rX8Nm7DF",
        "colab": {
          "base_uri": "https://localhost:8080/"
        },
        "outputId": "93dda470-8943-4bc1-f68a-6d0c13b76a1b"
      },
      "outputs": [
        {
          "output_type": "execute_result",
          "data": {
            "text/plain": [
              "['Sun', 'Mon', 'Thu', 'Sat', 'Wed', 'Fri', 'Tue']"
            ]
          },
          "metadata": {},
          "execution_count": 68
        }
      ],
      "source": [
        "dow = [x[0] for x in rc.groupBy(date_format(col('Date'),'E')).count().collect()]\n",
        "dow"
      ]
    },
    {
      "cell_type": "code",
      "execution_count": 69,
      "metadata": {
        "id": "Pu0V5jGCm7Gt",
        "colab": {
          "base_uri": "https://localhost:8080/"
        },
        "outputId": "bb369c79-35a6-4bcd-f43c-fb17b7ad1dd6"
      },
      "outputs": [
        {
          "output_type": "execute_result",
          "data": {
            "text/plain": [
              "[355682, 348625, 352244, 367232, 350722, 362389, 348064]"
            ]
          },
          "metadata": {},
          "execution_count": 69
        }
      ],
      "source": [
        "cnt = [x[1] for x in rc.groupBy(date_format(col('Date'),'E')).count().collect()]\n",
        "cnt"
      ]
    },
    {
      "cell_type": "code",
      "execution_count": 70,
      "metadata": {
        "id": "OxuIW6LlnaN6"
      },
      "outputs": [],
      "source": [
        "import pandas as pd\n",
        "import matplotlib.pyplot as plt"
      ]
    },
    {
      "cell_type": "code",
      "execution_count": 71,
      "metadata": {
        "id": "1WUeoZZwnaQ1",
        "colab": {
          "base_uri": "https://localhost:8080/",
          "height": 269
        },
        "outputId": "89671de1-afd3-44b1-e47d-1fe3af7beadb"
      },
      "outputs": [
        {
          "output_type": "execute_result",
          "data": {
            "text/plain": [
              "  Day_of_week   Count\n",
              "0         Sun  355682\n",
              "1         Mon  348625\n",
              "2         Thu  352244\n",
              "3         Sat  367232\n",
              "4         Wed  350722\n",
              "5         Fri  362389\n",
              "6         Tue  348064"
            ],
            "text/html": [
              "\n",
              "  <div id=\"df-d2ac7d3f-f020-4420-a014-33f918210d55\" class=\"colab-df-container\">\n",
              "    <div>\n",
              "<style scoped>\n",
              "    .dataframe tbody tr th:only-of-type {\n",
              "        vertical-align: middle;\n",
              "    }\n",
              "\n",
              "    .dataframe tbody tr th {\n",
              "        vertical-align: top;\n",
              "    }\n",
              "\n",
              "    .dataframe thead th {\n",
              "        text-align: right;\n",
              "    }\n",
              "</style>\n",
              "<table border=\"1\" class=\"dataframe\">\n",
              "  <thead>\n",
              "    <tr style=\"text-align: right;\">\n",
              "      <th></th>\n",
              "      <th>Day_of_week</th>\n",
              "      <th>Count</th>\n",
              "    </tr>\n",
              "  </thead>\n",
              "  <tbody>\n",
              "    <tr>\n",
              "      <th>0</th>\n",
              "      <td>Sun</td>\n",
              "      <td>355682</td>\n",
              "    </tr>\n",
              "    <tr>\n",
              "      <th>1</th>\n",
              "      <td>Mon</td>\n",
              "      <td>348625</td>\n",
              "    </tr>\n",
              "    <tr>\n",
              "      <th>2</th>\n",
              "      <td>Thu</td>\n",
              "      <td>352244</td>\n",
              "    </tr>\n",
              "    <tr>\n",
              "      <th>3</th>\n",
              "      <td>Sat</td>\n",
              "      <td>367232</td>\n",
              "    </tr>\n",
              "    <tr>\n",
              "      <th>4</th>\n",
              "      <td>Wed</td>\n",
              "      <td>350722</td>\n",
              "    </tr>\n",
              "    <tr>\n",
              "      <th>5</th>\n",
              "      <td>Fri</td>\n",
              "      <td>362389</td>\n",
              "    </tr>\n",
              "    <tr>\n",
              "      <th>6</th>\n",
              "      <td>Tue</td>\n",
              "      <td>348064</td>\n",
              "    </tr>\n",
              "  </tbody>\n",
              "</table>\n",
              "</div>\n",
              "    <div class=\"colab-df-buttons\">\n",
              "\n",
              "  <div class=\"colab-df-container\">\n",
              "    <button class=\"colab-df-convert\" onclick=\"convertToInteractive('df-d2ac7d3f-f020-4420-a014-33f918210d55')\"\n",
              "            title=\"Convert this dataframe to an interactive table.\"\n",
              "            style=\"display:none;\">\n",
              "\n",
              "  <svg xmlns=\"http://www.w3.org/2000/svg\" height=\"24px\" viewBox=\"0 -960 960 960\">\n",
              "    <path d=\"M120-120v-720h720v720H120Zm60-500h600v-160H180v160Zm220 220h160v-160H400v160Zm0 220h160v-160H400v160ZM180-400h160v-160H180v160Zm440 0h160v-160H620v160ZM180-180h160v-160H180v160Zm440 0h160v-160H620v160Z\"/>\n",
              "  </svg>\n",
              "    </button>\n",
              "\n",
              "  <style>\n",
              "    .colab-df-container {\n",
              "      display:flex;\n",
              "      gap: 12px;\n",
              "    }\n",
              "\n",
              "    .colab-df-convert {\n",
              "      background-color: #E8F0FE;\n",
              "      border: none;\n",
              "      border-radius: 50%;\n",
              "      cursor: pointer;\n",
              "      display: none;\n",
              "      fill: #1967D2;\n",
              "      height: 32px;\n",
              "      padding: 0 0 0 0;\n",
              "      width: 32px;\n",
              "    }\n",
              "\n",
              "    .colab-df-convert:hover {\n",
              "      background-color: #E2EBFA;\n",
              "      box-shadow: 0px 1px 2px rgba(60, 64, 67, 0.3), 0px 1px 3px 1px rgba(60, 64, 67, 0.15);\n",
              "      fill: #174EA6;\n",
              "    }\n",
              "\n",
              "    .colab-df-buttons div {\n",
              "      margin-bottom: 4px;\n",
              "    }\n",
              "\n",
              "    [theme=dark] .colab-df-convert {\n",
              "      background-color: #3B4455;\n",
              "      fill: #D2E3FC;\n",
              "    }\n",
              "\n",
              "    [theme=dark] .colab-df-convert:hover {\n",
              "      background-color: #434B5C;\n",
              "      box-shadow: 0px 1px 3px 1px rgba(0, 0, 0, 0.15);\n",
              "      filter: drop-shadow(0px 1px 2px rgba(0, 0, 0, 0.3));\n",
              "      fill: #FFFFFF;\n",
              "    }\n",
              "  </style>\n",
              "\n",
              "    <script>\n",
              "      const buttonEl =\n",
              "        document.querySelector('#df-d2ac7d3f-f020-4420-a014-33f918210d55 button.colab-df-convert');\n",
              "      buttonEl.style.display =\n",
              "        google.colab.kernel.accessAllowed ? 'block' : 'none';\n",
              "\n",
              "      async function convertToInteractive(key) {\n",
              "        const element = document.querySelector('#df-d2ac7d3f-f020-4420-a014-33f918210d55');\n",
              "        const dataTable =\n",
              "          await google.colab.kernel.invokeFunction('convertToInteractive',\n",
              "                                                    [key], {});\n",
              "        if (!dataTable) return;\n",
              "\n",
              "        const docLinkHtml = 'Like what you see? Visit the ' +\n",
              "          '<a target=\"_blank\" href=https://colab.research.google.com/notebooks/data_table.ipynb>data table notebook</a>'\n",
              "          + ' to learn more about interactive tables.';\n",
              "        element.innerHTML = '';\n",
              "        dataTable['output_type'] = 'display_data';\n",
              "        await google.colab.output.renderOutput(dataTable, element);\n",
              "        const docLink = document.createElement('div');\n",
              "        docLink.innerHTML = docLinkHtml;\n",
              "        element.appendChild(docLink);\n",
              "      }\n",
              "    </script>\n",
              "  </div>\n",
              "\n",
              "\n",
              "<div id=\"df-bc097503-e2ea-4269-b82b-25b55e7295d0\">\n",
              "  <button class=\"colab-df-quickchart\" onclick=\"quickchart('df-bc097503-e2ea-4269-b82b-25b55e7295d0')\"\n",
              "            title=\"Suggest charts.\"\n",
              "            style=\"display:none;\">\n",
              "\n",
              "<svg xmlns=\"http://www.w3.org/2000/svg\" height=\"24px\"viewBox=\"0 0 24 24\"\n",
              "     width=\"24px\">\n",
              "    <g>\n",
              "        <path d=\"M19 3H5c-1.1 0-2 .9-2 2v14c0 1.1.9 2 2 2h14c1.1 0 2-.9 2-2V5c0-1.1-.9-2-2-2zM9 17H7v-7h2v7zm4 0h-2V7h2v10zm4 0h-2v-4h2v4z\"/>\n",
              "    </g>\n",
              "</svg>\n",
              "  </button>\n",
              "\n",
              "<style>\n",
              "  .colab-df-quickchart {\n",
              "    background-color: #E8F0FE;\n",
              "    border: none;\n",
              "    border-radius: 50%;\n",
              "    cursor: pointer;\n",
              "    display: none;\n",
              "    fill: #1967D2;\n",
              "    height: 32px;\n",
              "    padding: 0 0 0 0;\n",
              "    width: 32px;\n",
              "  }\n",
              "\n",
              "  .colab-df-quickchart:hover {\n",
              "    background-color: #E2EBFA;\n",
              "    box-shadow: 0px 1px 2px rgba(60, 64, 67, 0.3), 0px 1px 3px 1px rgba(60, 64, 67, 0.15);\n",
              "    fill: #174EA6;\n",
              "  }\n",
              "\n",
              "  [theme=dark] .colab-df-quickchart {\n",
              "    background-color: #3B4455;\n",
              "    fill: #D2E3FC;\n",
              "  }\n",
              "\n",
              "  [theme=dark] .colab-df-quickchart:hover {\n",
              "    background-color: #434B5C;\n",
              "    box-shadow: 0px 1px 3px 1px rgba(0, 0, 0, 0.15);\n",
              "    filter: drop-shadow(0px 1px 2px rgba(0, 0, 0, 0.3));\n",
              "    fill: #FFFFFF;\n",
              "  }\n",
              "</style>\n",
              "\n",
              "  <script>\n",
              "    async function quickchart(key) {\n",
              "      const charts = await google.colab.kernel.invokeFunction(\n",
              "          'suggestCharts', [key], {});\n",
              "    }\n",
              "    (() => {\n",
              "      let quickchartButtonEl =\n",
              "        document.querySelector('#df-bc097503-e2ea-4269-b82b-25b55e7295d0 button');\n",
              "      quickchartButtonEl.style.display =\n",
              "        google.colab.kernel.accessAllowed ? 'block' : 'none';\n",
              "    })();\n",
              "  </script>\n",
              "</div>\n",
              "    </div>\n",
              "  </div>\n"
            ]
          },
          "metadata": {},
          "execution_count": 71
        }
      ],
      "source": [
        "cp = pd.DataFrame({'Day_of_week': dow, 'Count': cnt})\n",
        "cp.head(7)"
      ]
    },
    {
      "cell_type": "code",
      "execution_count": 74,
      "metadata": {
        "id": "dUqL_CI-naTu",
        "colab": {
          "base_uri": "https://localhost:8080/",
          "height": 466
        },
        "outputId": "dbb5457a-ac26-47bf-8ae0-718f32033bb5"
      },
      "outputs": [
        {
          "output_type": "execute_result",
          "data": {
            "text/plain": [
              "Text(0, 0.5, 'Number of reported crimes')"
            ]
          },
          "metadata": {},
          "execution_count": 74
        },
        {
          "output_type": "display_data",
          "data": {
            "text/plain": [
              "<Figure size 640x480 with 1 Axes>"
            ],
            "image/png": "[encoded data removed]"
          },
          "metadata": {}
        }
      ],
      "source": [
        "cp.sort_values('Count',ascending=False).plot(kind='line',color='blue',x='Day_of_week',y='Count')\n",
        "plt.xlabel('Day of the week')\n",
        "plt.ylabel('Number of reported crimes')"
      ]
    },
    {
      "cell_type": "markdown",
      "metadata": {
        "id": "Moeit3QowBTb"
      },
      "source": [
        "#### **RDDs Setup**"
      ]
    },
    {
      "cell_type": "code",
      "execution_count": 73,
      "metadata": {
        "colab": {
          "base_uri": "https://localhost:8080/",
          "height": 36
        },
        "id": "2gURRFXunaWl",
        "outputId": "c0fe173b-46bb-4d51-d59f-49db6d4d9345"
      },
      "outputs": [
        {
          "output_type": "execute_result",
          "data": {
            "text/plain": [
              "'DISTRICT,DISTRICT NAME,ADDRESS,CITY,STATE,ZIP,WEBSITE,PHONE,FAX,TTY,X COORDINATE,Y COORDINATE,LATITUDE,LONGITUDE,LOCATION'"
            ],
            "application/vnd.google.colaboratory.intrinsic+json": {
              "type": "string"
            }
          },
          "metadata": {},
          "execution_count": 73
        }
      ],
      "source": [
        "psrdd = sc.textFile('police_station.csv')\n",
        "psrdd.first()"
      ]
    },
    {
      "cell_type": "code",
      "execution_count": 75,
      "metadata": {
        "id": "vLhN9ePYjpN4"
      },
      "outputs": [],
      "source": [
        "ps_header = psrdd.first()"
      ]
    },
    {
      "cell_type": "code",
      "execution_count": 76,
      "metadata": {
        "colab": {
          "base_uri": "https://localhost:8080/",
          "height": 36
        },
        "id": "r4HYZoftdJHk",
        "outputId": "0fa659fb-9809-475a-dceb-e21d07855334"
      },
      "outputs": [
        {
          "output_type": "execute_result",
          "data": {
            "text/plain": [
              "'Headquarters,Headquarters,3510 S Michigan Ave,Chicago,IL,60653,http://home.chicagopolice.org,,,,1177731.401,1881697.404,41.83070169,-87.62339535,\"(41.8307016873, -87.6233953459)\"'"
            ],
            "application/vnd.google.colaboratory.intrinsic+json": {
              "type": "string"
            }
          },
          "metadata": {},
          "execution_count": 76
        }
      ],
      "source": [
        "ps_rest=psrdd.filter(lambda line: line!=ps_header)\n",
        "ps_rest.first()"
      ]
    },
    {
      "cell_type": "code",
      "execution_count": 77,
      "metadata": {
        "colab": {
          "base_uri": "https://localhost:8080/"
        },
        "id": "TfJml5fsx1Lk",
        "outputId": "45450839-f9d1-4d8e-edbb-a577ac4a9615"
      },
      "outputs": [
        {
          "output_type": "execute_result",
          "data": {
            "text/plain": [
              "24"
            ]
          },
          "metadata": {},
          "execution_count": 77
        }
      ],
      "source": [
        "# How many pilice station are there\n",
        "#ps_rest.map(lambda line: line.split(',')).collect()\n",
        "ps_rest.map(lambda line: line.split(',')).count()"
      ]
    },
    {
      "cell_type": "code",
      "execution_count": 78,
      "metadata": {
        "colab": {
          "base_uri": "https://localhost:8080/"
        },
        "id": "8Tl__Zw-x-bb",
        "outputId": "5daf7400-95c3-4050-fe89-1a137f9dce4f"
      },
      "outputs": [
        {
          "output_type": "execute_result",
          "data": {
            "text/plain": [
              "[('7', 'Englewood', '1438 W 63rd St', '60636')]"
            ]
          },
          "metadata": {},
          "execution_count": 78
        }
      ],
      "source": [
        "# Display the District ID, Disctrict name, Address and Zip for the police station\n",
        "ps_rest.filter(lambda line: line.split(',')[0] == '7').map(lambda line: (line.split(',')[0],\n",
        "                  line.split(',')[1],\n",
        "                  line.split(',')[2],\n",
        "                  line.split(',')[5]\n",
        "                  )).collect()"
      ]
    },
    {
      "cell_type": "code",
      "execution_count": 79,
      "metadata": {
        "colab": {
          "base_uri": "https://localhost:8080/"
        },
        "id": "GGeZ2aBxx-fF",
        "outputId": "1a6fd8cd-09c1-4126-e302-5a5772b3f2d5"
      },
      "outputs": [
        {
          "output_type": "execute_result",
          "data": {
            "text/plain": [
              "[('Ogden', '3315 W Ogden Ave', '60623'),\n",
              " ('Harrison', '3151 W Harrison St', '60612')]"
            ]
          },
          "metadata": {},
          "execution_count": 79
        }
      ],
      "source": [
        "# Police stations 10 and 11 are geographically close to each other. Display the District ID, District name, address and zip code\n",
        "ps_rest.filter(lambda line: line.split(',')[0] in ['10','11']).map(\n",
        "    lambda line: (line.split(',')[1],\n",
        "                  line.split(',')[2],\n",
        "                  line.split(',')[5])\n",
        ").collect()"
      ]
    }
  ],
  "metadata": {
    "colab": {
      "provenance": []
    },
    "kernelspec": {
      "display_name": "Python 3",
      "name": "python3"
    },
    "language_info": {
      "name": "python"
    }
  },
  "nbformat": 4,
  "nbformat_minor": 0
}